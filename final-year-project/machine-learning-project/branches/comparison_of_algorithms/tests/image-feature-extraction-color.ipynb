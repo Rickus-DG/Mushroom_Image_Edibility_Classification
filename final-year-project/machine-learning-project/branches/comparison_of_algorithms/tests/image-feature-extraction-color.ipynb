{
 "cells": [
  {
   "cell_type": "code",
   "execution_count": 1,
   "metadata": {},
   "outputs": [],
   "source": [
    "import os\n",
    "import sys\n",
    "import numpy as np\n",
    "import cv2\n",
    "import sklearn\n",
    "import fnmatch\n",
    "from matplotlib import pyplot as plt\n",
    "import imutils\n",
    "sys.path.insert(0, os.path.abspath('../..'))\n",
    "\n",
    "file_under_use = 'final_set_unique/'\n",
    "imagePixelSize = 512"
   ]
  },
  {
   "cell_type": "code",
   "execution_count": 2,
   "metadata": {},
   "outputs": [],
   "source": [
    "mushroomNames = []\n",
    "for mushroomName in os.listdir('../../MushroomImage/' + file_under_use):\n",
    "    mushroomNames.append(mushroomName)"
   ]
  },
  {
   "cell_type": "code",
   "execution_count": 3,
   "metadata": {},
   "outputs": [
    {
     "name": "stdout",
     "output_type": "stream",
     "text": [
      "445\n"
     ]
    }
   ],
   "source": [
    "numImages = 0\n",
    "for mushroomName in mushroomNames:\n",
    "    for imageName in os.listdir('../../MushroomImage/' + file_under_use + mushroomName):\n",
    "        numImages += 1\n",
    "print(numImages)"
   ]
  },
  {
   "cell_type": "code",
   "execution_count": 4,
   "metadata": {},
   "outputs": [
    {
     "name": "stdout",
     "output_type": "stream",
     "text": [
      "106\n",
      "339\n"
     ]
    }
   ],
   "source": [
    "index = 0\n",
    "testCount = 0\n",
    "trainCount = 0\n",
    "for mushroomName in mushroomNames:\n",
    "    dirListing = os.listdir('../../MushroomImage/' + file_under_use + mushroomName)\n",
    "    numImages = len(dirListing) \n",
    "    train = int(numImages * (3/4))-1\n",
    "    count = 0\n",
    "    for imageName in os.listdir('../../MushroomImage/' + file_under_use + mushroomName):\n",
    "        \n",
    "        if count <= train:\n",
    "            trainCount += 1\n",
    "        else:\n",
    "            testCount += 1\n",
    "        index += 1\n",
    "        count += 1\n",
    "        \n",
    "print(testCount)\n",
    "print(trainCount)"
   ]
  },
  {
   "cell_type": "code",
   "execution_count": 10,
   "metadata": {},
   "outputs": [],
   "source": [
    "images_train = np.empty([numImages, imagePixelSize+1]) \n",
    "\n",
    "\n",
    "def extract_color_histogram(image, bins=(8, 8, 8)):\n",
    "    # extract a 3D color histogram from the HSV color space using\n",
    "    # the supplied number of `bins` per channel\n",
    "    hsv = cv2.cvtColor(image, cv2.COLOR_BGR2HSV)\n",
    "    hist = cv2.calcHist([hsv], [0, 1, 2], None, bins,\n",
    "        [0, 180, 0, 256, 0, 256])\n",
    "    # handle normalizing the histogram if we are using OpenCV 2.4.X\n",
    "    if imutils.is_cv2():\n",
    "        hist = cv2.normalize(hist)\n",
    "    # otherwise, perform \"in place\" normalization in OpenCV 3 (I\n",
    "    # personally hate the way this is done\n",
    "    else:\n",
    "        cv2.normalize(hist, hist)\n",
    "    # return the flattened histogram as the feature vector\n",
    "    return hist.flatten()\n",
    "\n",
    "def extract_lines(image):\n",
    "    median_intensity = np.median(image)\n",
    "    image = cv2.resize(image, (40,40))\n",
    "    lower_threshold = int(max(0, (1.0 - 0.33) * median_intensity))\n",
    "    upper_threshold = int(max(255, (1.0 + 0.33) * median_intensity))\n",
    "    image = cv2.Canny(image, lower_threshold, upper_threshold)\n",
    "    zoned_image = np.empty([4,4])\n",
    "    plt.imshow(image, cmap=\"gray\")\n",
    "    plt.show()\n",
    "    for i in range(0,4):\n",
    "        for j in range(0, 4):\n",
    "            image_small = image[i*10:i*10+10,j*10:j*10+10]\n",
    "            zoned_image[i,j] = np.count_nonzero(image_small)\n",
    "    return zoned_image.flatten()\n",
    "    \n",
    "\n",
    "\n"
   ]
  },
  {
   "cell_type": "code",
   "execution_count": 11,
   "metadata": {},
   "outputs": [
    {
     "ename": "IndexError",
     "evalue": "index 339 is out of bounds for axis 0 with size 50",
     "output_type": "error",
     "traceback": [
      "\u001b[1;31m---------------------------------------------------------------------------\u001b[0m",
      "\u001b[1;31mIndexError\u001b[0m                                Traceback (most recent call last)",
      "\u001b[1;32m<ipython-input-11-934d8697636f>\u001b[0m in \u001b[0;36m<module>\u001b[1;34m\u001b[0m\n\u001b[0;32m     10\u001b[0m \u001b[1;33m\u001b[0m\u001b[0m\n\u001b[0;32m     11\u001b[0m         \u001b[1;32mif\u001b[0m \u001b[0mcount\u001b[0m \u001b[1;33m<=\u001b[0m \u001b[0mtrain\u001b[0m\u001b[1;33m:\u001b[0m\u001b[1;33m\u001b[0m\u001b[1;33m\u001b[0m\u001b[0m\n\u001b[1;32m---> 12\u001b[1;33m             \u001b[0mimages_train\u001b[0m\u001b[1;33m[\u001b[0m\u001b[0mtrain_index\u001b[0m\u001b[1;33m]\u001b[0m \u001b[1;33m=\u001b[0m \u001b[0mnp\u001b[0m\u001b[1;33m.\u001b[0m\u001b[0mappend\u001b[0m\u001b[1;33m(\u001b[0m\u001b[0mextract_color_histogram\u001b[0m\u001b[1;33m(\u001b[0m\u001b[0mimage\u001b[0m\u001b[1;33m)\u001b[0m\u001b[1;33m,\u001b[0m \u001b[0mnp\u001b[0m\u001b[1;33m.\u001b[0m\u001b[0marray\u001b[0m\u001b[1;33m(\u001b[0m\u001b[1;33m[\u001b[0m\u001b[0mmushroomNames\u001b[0m\u001b[1;33m.\u001b[0m\u001b[0mindex\u001b[0m\u001b[1;33m(\u001b[0m\u001b[0mmushroomName\u001b[0m\u001b[1;33m)\u001b[0m\u001b[1;33m]\u001b[0m\u001b[1;33m)\u001b[0m\u001b[1;33m,\u001b[0m \u001b[0maxis\u001b[0m \u001b[1;33m=\u001b[0m \u001b[1;36m0\u001b[0m\u001b[1;33m)\u001b[0m\u001b[1;33m\u001b[0m\u001b[1;33m\u001b[0m\u001b[0m\n\u001b[0m\u001b[0;32m     13\u001b[0m             \u001b[0mtrain_index\u001b[0m \u001b[1;33m+=\u001b[0m \u001b[1;36m1\u001b[0m\u001b[1;33m\u001b[0m\u001b[1;33m\u001b[0m\u001b[0m\n\u001b[0;32m     14\u001b[0m         \u001b[1;32melse\u001b[0m\u001b[1;33m:\u001b[0m\u001b[1;33m\u001b[0m\u001b[1;33m\u001b[0m\u001b[0m\n",
      "\u001b[1;31mIndexError\u001b[0m: index 339 is out of bounds for axis 0 with size 50"
     ]
    }
   ],
   "source": [
    "for mushroomName in mushroomNames:\n",
    "    dirListing = os.listdir('../../MushroomImage/' + file_under_use + mushroomName)\n",
    "    numImages = len(dirListing) \n",
    "    train = int(numImages * (3/4))\n",
    "    count = 0\n",
    "    for imageName in os.listdir('../../MushroomImage/' + file_under_use + mushroomName):\n",
    "        \n",
    "        image = cv2.imread('../../MushroomImage/' + file_under_use + mushroomName + '/' + imageName, cv2.IMREAD_COLOR)\n",
    "        #print(mushroomName + '/' + imageName)\n",
    "        \n",
    "        if count <= train:\n",
    "            images_train[train_index] = np.append(extract_color_histogram(image), np.array([mushroomNames.index(mushroomName)]), axis = 0)\n",
    "            train_index += 1\n",
    "        else:\n",
    "            images_test[test_index] = np.append(extract_color_histogram(image), np.array([mushroomNames.index(mushroomName)]), axis = 0)\n",
    "            test_index += 1\n",
    "        count += 1"
   ]
  },
  {
   "cell_type": "code",
   "execution_count": 8,
   "metadata": {
    "scrolled": false
   },
   "outputs": [
    {
     "name": "stdout",
     "output_type": "stream",
     "text": [
      "dict_keys(['bootstrap', 'ccp_alpha', 'class_weight', 'criterion', 'max_depth', 'max_features', 'max_leaf_nodes', 'max_samples', 'min_impurity_decrease', 'min_impurity_split', 'min_samples_leaf', 'min_samples_split', 'min_weight_fraction_leaf', 'n_estimators', 'n_jobs', 'oob_score', 'random_state', 'verbose', 'warm_start'])\n",
      "0.5849056603773585\n",
      "11069_Boletus_edulis    10056_Agaricus_arvensis\n",
      "10056_Agaricus_arvensis    10056_Agaricus_arvensis\n",
      "12587_Cortinarius_rubellus    10056_Agaricus_arvensis\n",
      "10056_Agaricus_arvensis    10056_Agaricus_arvensis\n",
      "10056_Agaricus_arvensis    10056_Agaricus_arvensis\n",
      "10056_Agaricus_arvensis    10056_Agaricus_arvensis\n",
      "10056_Agaricus_arvensis    10056_Agaricus_arvensis\n",
      "10056_Agaricus_arvensis    10056_Agaricus_arvensis\n",
      "11069_Boletus_edulis    10056_Agaricus_arvensis\n",
      "10056_Agaricus_arvensis    10056_Agaricus_arvensis\n",
      "10056_Agaricus_arvensis    10056_Agaricus_arvensis\n",
      "10056_Agaricus_arvensis    10056_Agaricus_arvensis\n",
      "10056_Agaricus_arvensis    10056_Agaricus_arvensis\n",
      "10056_Agaricus_arvensis    10056_Agaricus_arvensis\n",
      "10056_Agaricus_arvensis    10056_Agaricus_arvensis\n",
      "11069_Boletus_edulis    10056_Agaricus_arvensis\n",
      "10056_Agaricus_arvensis    10056_Agaricus_arvensis\n",
      "10263_Amanita_rubescens var. rubescens    10056_Agaricus_arvensis\n",
      "10056_Agaricus_arvensis    10056_Agaricus_arvensis\n",
      "10056_Agaricus_arvensis    10056_Agaricus_arvensis\n",
      "10263_Amanita_rubescens var. rubescens    10056_Agaricus_arvensis\n",
      "10056_Agaricus_arvensis    10056_Agaricus_arvensis\n",
      "10056_Agaricus_arvensis    10056_Agaricus_arvensis\n",
      "11069_Boletus_edulis    10056_Agaricus_arvensis\n",
      "10252_Amanita_muscaria    10252_Amanita_muscaria\n",
      "10252_Amanita_muscaria    10252_Amanita_muscaria\n",
      "10252_Amanita_muscaria    10252_Amanita_muscaria\n",
      "10263_Amanita_rubescens var. rubescens    10252_Amanita_muscaria\n",
      "10056_Agaricus_arvensis    10252_Amanita_muscaria\n",
      "10252_Amanita_muscaria    10252_Amanita_muscaria\n",
      "10252_Amanita_muscaria    10252_Amanita_muscaria\n",
      "10252_Amanita_muscaria    10252_Amanita_muscaria\n",
      "10252_Amanita_muscaria    10252_Amanita_muscaria\n",
      "12587_Cortinarius_rubellus    10252_Amanita_muscaria\n",
      "10263_Amanita_rubescens var. rubescens    10252_Amanita_muscaria\n",
      "10252_Amanita_muscaria    10252_Amanita_muscaria\n",
      "10252_Amanita_muscaria    10252_Amanita_muscaria\n",
      "10252_Amanita_muscaria    10252_Amanita_muscaria\n",
      "10252_Amanita_muscaria    10252_Amanita_muscaria\n",
      "10252_Amanita_muscaria    10252_Amanita_muscaria\n",
      "10252_Amanita_muscaria    10252_Amanita_muscaria\n",
      "10252_Amanita_muscaria    10252_Amanita_muscaria\n",
      "11069_Boletus_edulis    10252_Amanita_muscaria\n",
      "10252_Amanita_muscaria    10252_Amanita_muscaria\n",
      "10252_Amanita_muscaria    10252_Amanita_muscaria\n",
      "10056_Agaricus_arvensis    10263_Amanita_rubescens var. rubescens\n",
      "10263_Amanita_rubescens var. rubescens    10263_Amanita_rubescens var. rubescens\n",
      "10263_Amanita_rubescens var. rubescens    10263_Amanita_rubescens var. rubescens\n",
      "10263_Amanita_rubescens var. rubescens    10263_Amanita_rubescens var. rubescens\n",
      "10056_Agaricus_arvensis    10263_Amanita_rubescens var. rubescens\n",
      "10056_Agaricus_arvensis    10263_Amanita_rubescens var. rubescens\n",
      "10263_Amanita_rubescens var. rubescens    10263_Amanita_rubescens var. rubescens\n",
      "10263_Amanita_rubescens var. rubescens    10263_Amanita_rubescens var. rubescens\n",
      "10263_Amanita_rubescens var. rubescens    10263_Amanita_rubescens var. rubescens\n",
      "10056_Agaricus_arvensis    10263_Amanita_rubescens var. rubescens\n",
      "14119_Galerina_marginata    10263_Amanita_rubescens var. rubescens\n",
      "10056_Agaricus_arvensis    10263_Amanita_rubescens var. rubescens\n",
      "11069_Boletus_edulis    10263_Amanita_rubescens var. rubescens\n",
      "10056_Agaricus_arvensis    10263_Amanita_rubescens var. rubescens\n",
      "10263_Amanita_rubescens var. rubescens    10263_Amanita_rubescens var. rubescens\n",
      "10263_Amanita_rubescens var. rubescens    10263_Amanita_rubescens var. rubescens\n",
      "10056_Agaricus_arvensis    11069_Boletus_edulis\n",
      "14119_Galerina_marginata    11069_Boletus_edulis\n",
      "10056_Agaricus_arvensis    11069_Boletus_edulis\n",
      "11069_Boletus_edulis    11069_Boletus_edulis\n",
      "11069_Boletus_edulis    11069_Boletus_edulis\n",
      "10263_Amanita_rubescens var. rubescens    11069_Boletus_edulis\n",
      "11069_Boletus_edulis    11069_Boletus_edulis\n",
      "11069_Boletus_edulis    11069_Boletus_edulis\n",
      "12587_Cortinarius_rubellus    11069_Boletus_edulis\n",
      "11069_Boletus_edulis    11069_Boletus_edulis\n",
      "10056_Agaricus_arvensis    11069_Boletus_edulis\n",
      "11069_Boletus_edulis    11069_Boletus_edulis\n",
      "11069_Boletus_edulis    11069_Boletus_edulis\n",
      "11069_Boletus_edulis    11069_Boletus_edulis\n",
      "10263_Amanita_rubescens var. rubescens    11069_Boletus_edulis\n",
      "12587_Cortinarius_rubellus    11069_Boletus_edulis\n",
      "10056_Agaricus_arvensis    11069_Boletus_edulis\n",
      "10056_Agaricus_arvensis    11069_Boletus_edulis\n",
      "10056_Agaricus_arvensis    11069_Boletus_edulis\n",
      "12587_Cortinarius_rubellus    12587_Cortinarius_rubellus\n",
      "12587_Cortinarius_rubellus    12587_Cortinarius_rubellus\n",
      "14119_Galerina_marginata    12587_Cortinarius_rubellus\n",
      "14119_Galerina_marginata    12587_Cortinarius_rubellus\n",
      "14119_Galerina_marginata    12587_Cortinarius_rubellus\n",
      "12587_Cortinarius_rubellus    12587_Cortinarius_rubellus\n",
      "14119_Galerina_marginata    12587_Cortinarius_rubellus\n",
      "11069_Boletus_edulis    12587_Cortinarius_rubellus\n",
      "12587_Cortinarius_rubellus    12587_Cortinarius_rubellus\n",
      "12587_Cortinarius_rubellus    12587_Cortinarius_rubellus\n",
      "12587_Cortinarius_rubellus    12587_Cortinarius_rubellus\n",
      "14119_Galerina_marginata    12587_Cortinarius_rubellus\n",
      "14119_Galerina_marginata    12587_Cortinarius_rubellus\n",
      "14119_Galerina_marginata    12587_Cortinarius_rubellus\n",
      "12587_Cortinarius_rubellus    14119_Galerina_marginata\n",
      "14119_Galerina_marginata    14119_Galerina_marginata\n",
      "14119_Galerina_marginata    14119_Galerina_marginata\n",
      "14119_Galerina_marginata    14119_Galerina_marginata\n",
      "14119_Galerina_marginata    14119_Galerina_marginata\n",
      "14119_Galerina_marginata    14119_Galerina_marginata\n",
      "10056_Agaricus_arvensis    14119_Galerina_marginata\n",
      "14119_Galerina_marginata    14119_Galerina_marginata\n",
      "14119_Galerina_marginata    14119_Galerina_marginata\n",
      "10252_Amanita_muscaria    14119_Galerina_marginata\n",
      "10263_Amanita_rubescens var. rubescens    14119_Galerina_marginata\n",
      "10263_Amanita_rubescens var. rubescens    14119_Galerina_marginata\n",
      "[0. 0. 0. 0. 0. 0. 0. 0. 0. 0. 0. 0. 0. 0. 0. 0. 0. 0. 0. 0. 0. 0. 0. 0.\n",
      " 1. 1. 1. 1. 1. 1. 1. 1. 1. 1. 1. 1. 1. 1. 1. 1. 1. 1. 1. 1. 1. 2. 2. 2.\n",
      " 2. 2. 2. 2. 2. 2. 2. 2. 2. 2. 2. 2. 2. 3. 3. 3. 3. 3. 3. 3. 3. 3. 3. 3.\n",
      " 3. 3. 3. 3. 3. 3. 3. 3. 4. 4. 4. 4. 4. 4. 4. 4. 4. 4. 4. 4. 4. 4. 5. 5.\n",
      " 5. 5. 5. 5. 5. 5. 5. 5. 5. 5.]\n"
     ]
    }
   ],
   "source": [
    "from sklearn import tree\n",
    "from sklearn.neighbors import KNeighborsClassifier\n",
    "from sklearn.preprocessing import StandardScaler\n",
    "from sklearn.decomposition import PCA\n",
    "from sklearn.decomposition import KernelPCA\n",
    "from sklearn.neural_network import MLPClassifier\n",
    "from sklearn.model_selection import GridSearchCV\n",
    "\n",
    "mushroom_train_data = images_train[:,:imagePixelSize]\n",
    "mushroom_train_target = images_train[:,-1]\n",
    "mushroom_test_data = images_test[:,:imagePixelSize]\n",
    "mushroom_test_target = images_test[:,-1]\n",
    "\n",
    "\n",
    "\n",
    "\n",
    "#pca = PCA(n_components=0.5, whiten=True)\n",
    "#pca.fit(mushroom_train_data)\n",
    "#mushroom_train_data = pca.transform(mushroom_train_data)\n",
    "#mushroom_test_data = pca.transform(mushroom_test_data)\n",
    "\n",
    "\n",
    "#scaler = StandardScaler()\n",
    "#scaler.fit(mushroom_train_data)\n",
    "#mushroom_train_data = scaler.transform(mushroom_train_data)\n",
    "#mushroom_test_data = scaler.transform(mushroom_test_data)\n",
    "\n",
    "#knn = tree.DecisionTreeClassifier()\n",
    "\n",
    "#knn = KNeighborsClassifier(n_neighbors=7)\n",
    "from sklearn.ensemble import RandomForestClassifier\n",
    "knn = RandomForestClassifier()\n",
    "\n",
    "\n",
    "knn.fit(mushroom_train_data, mushroom_train_target)\n",
    "print(knn.get_params().keys())\n",
    "\n",
    "knnScore = knn.score(mushroom_test_data,mushroom_test_target)\n",
    "print(knnScore)\n",
    "predict = knn.predict(mushroom_test_data)\n",
    "\n",
    "for i in np.arange(mushroom_test_target.shape[0]):\n",
    "    print(mushroomNames[int(predict[i])] + \"    \" + mushroomNames[int(mushroom_test_target[i])])\n",
    "print(mushroom_test_target)"
   ]
  },
  {
   "cell_type": "code",
   "execution_count": 92,
   "metadata": {},
   "outputs": [],
   "source": [
    "from numpy import savetxt\n",
    "savetxt('../mushroom_images/mushroom_image_train_color_data.csv', mushroom_train_data, delimiter=',')\n",
    "savetxt('../mushroom_images/mushroom_image_train_color_target.csv', mushroom_train_target, delimiter=',')\n",
    "savetxt('../mushroom_images/mushroom_image_test_color_data.csv', mushroom_test_data, delimiter=',')\n",
    "savetxt('../mushroom_images/mushroom_image_test_color_target.csv', mushroom_test_target, delimiter=',')"
   ]
  },
  {
   "cell_type": "markdown",
   "metadata": {},
   "source": [
    "## deletes images"
   ]
  },
  {
   "cell_type": "markdown",
   "metadata": {
    "scrolled": true
   },
   "source": [
    "print(image.flatten().shape)\n",
    "for mushroomName in mushroomNames:\n",
    "    for imageName in os.listdir('../../MushroomImage/' + file_under_use + mushroomName):\n",
    "        for imageName in os.listdir('../../MushroomImage/' + file_under_use + mushroomName):\n",
    "            os.remove('../../MushroomImage/' + file_under_use + mushroomName + '/' + imageName)\n",
    "        \n"
   ]
  },
  {
   "cell_type": "markdown",
   "metadata": {},
   "source": [
    "## Removes folders with less than 15 images"
   ]
  },
  {
   "cell_type": "markdown",
   "metadata": {},
   "source": [
    "import shutil\n",
    "\n",
    "for mushroomName in mushroomNames:\n",
    "    dirListing = os.listdir('../../MushroomImage/images_nobg/' + mushroomName)\n",
    "    if(len(dirListing) < 15):\n",
    "        try:\n",
    "            shutil.rmtree('../../MushroomImage/images_nobg/' + mushroomName)\n",
    "        except OSError as e:\n",
    "            print(\"Error: %s : %s\" % (dir_path, e.strerror))\n",
    "    print(len(dirListing))\n"
   ]
  },
  {
   "cell_type": "markdown",
   "metadata": {},
   "source": [
    "\n",
    "\n",
    "mushroomNames = []\n",
    "for mushroomName in os.listdir('../../MushroomImage/' + 'images_qual/'):\n",
    "    mushroomNames.append(mushroomName)\n",
    "\n",
    "for mushroomName in mushroomNames[:]:\n",
    "    for imageName in os.listdir('../../MushroomImage/' + 'images_qual/' + mushroomName):\n",
    "        image = cv2.imread('../../MushroomImage/' + 'images_qual/' + mushroomName + '/' + imageName, cv2.IMREAD_COLOR)\n",
    "        try:\n",
    "            image = cv2.resize(image, (150,150))\n",
    "        except:\n",
    "            break\n",
    "        #image = cv2.cvtColor(image, cv2.COLOR_BGR2RGB)\n",
    "        rectangle = (10,10,130,130)\n",
    "        mask = np.zeros(image.shape[:2], np.uint8)\n",
    "        bgdModel = np.zeros((1,65), np.float64)\n",
    "        fgdModel = np.zeros((1,65), np.float64)\n",
    "        \n",
    "        cv2.grabCut(image,\n",
    "                   mask,\n",
    "                   rectangle,\n",
    "                   bgdModel,\n",
    "                   fgdModel,\n",
    "                   5,\n",
    "                   cv2.GC_INIT_WITH_RECT)\n",
    "        \n",
    "        mask_2 = np.where((mask==2) | (mask==0), 0, 1).astype('uint8')\n",
    "    \n",
    "        image_nobg = image * mask_2[:,:,np.newaxis]\n",
    "        sparsity = 1.0 - np.count_nonzero(image_nobg) / image_nobg.size\n",
    "        plt.imshow(image_nobg)\n",
    "        if(sparsity < 0.95):\n",
    "            cv2.imwrite('../../MushroomImage/' + file_under_use  + mushroomName + '/' + imageName, image_nobg)\n",
    "            print(mushroomName)\n",
    "        #cv2.imwrite('../../MushroomImage/' + file_under_use  + mushroomName + '/' + imageName, image)\n",
    "print(image.flatten().shape)"
   ]
  },
  {
   "cell_type": "code",
   "execution_count": null,
   "metadata": {},
   "outputs": [],
   "source": []
  }
 ],
 "metadata": {
  "kernelspec": {
   "display_name": "Python 3",
   "language": "python",
   "name": "python3"
  },
  "language_info": {
   "codemirror_mode": {
    "name": "ipython",
    "version": 3
   },
   "file_extension": ".py",
   "mimetype": "text/x-python",
   "name": "python",
   "nbconvert_exporter": "python",
   "pygments_lexer": "ipython3",
   "version": "3.8.3"
  }
 },
 "nbformat": 4,
 "nbformat_minor": 4
}
