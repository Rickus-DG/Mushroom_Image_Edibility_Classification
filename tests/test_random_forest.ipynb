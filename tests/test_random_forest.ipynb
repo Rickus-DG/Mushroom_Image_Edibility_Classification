{
 "cells": [
  {
   "cell_type": "code",
   "execution_count": 5,
   "metadata": {},
   "outputs": [],
   "source": [
    "import os\n",
    "import sys\n",
    "sys.path.insert(0, os.path.abspath('..'))\n",
    "sys.path.insert(0, os.path.abspath('../algorithms'))\n",
    "\n",
    "\n",
    "import numpy as np\n",
    "from sklearn.model_selection import train_test_split\n",
    "from algorithms import decisiontree\n",
    "from decisiontree import RandomForestClassifier\n",
    "\n",
    "mushroom_train_data = np.genfromtxt('../mushroom_images/mushroom_image_train_color_data.csv', delimiter=\",\")\n",
    "mushroom_train_target = np.genfromtxt('../mushroom_images/mushroom_image_train_color_target.csv', delimiter=\",\")\n",
    "mushroom_test_data = np.genfromtxt('../mushroom_images/mushroom_image_test_color_data.csv', delimiter=\",\")\n",
    "mushroom_test_target = np.genfromtxt('../mushroom_images/mushroom_image_test_color_target.csv', delimiter=\",\")\n",
    "    \n",
    "mushroom_edibility = [0,1,0,0,1,1]\n",
    "\n",
    "from sklearn.feature_selection import SelectKBest\n",
    "from sklearn.feature_selection import chi2, f_classif\n",
    "\n",
    "\n",
    "fValue_selector = SelectKBest(chi2,k=8)\n",
    "fValue_selector.fit(mushroom_train_data, mushroom_train_target)\n",
    "mushroom_train_data = fValue_selector.transform(mushroom_train_data)\n",
    "mushroom_test_data = fValue_selector.transform(mushroom_test_data)\n"
   ]
  },
  {
   "cell_type": "code",
   "execution_count": 6,
   "metadata": {},
   "outputs": [
    {
     "name": "stdout",
     "output_type": "stream",
     "text": [
      "0.4027777777777778\n",
      "Binary edibility accuracy: 0.8472222222222222\n"
     ]
    }
   ],
   "source": [
    "rfc = RandomForestClassifier(classes=[0,1,2,3,4,5])\n",
    "\n",
    "rfc.fit(mushroom_train_data, mushroom_train_target, length_stopping_criterion=1, num_trees=100, ratio=0.1)\n",
    "\n",
    "\n",
    "prediction = rfc.predict(mushroom_test_data)\n",
    "print(rfc.score(mushroom_test_data, mushroom_test_target))\n",
    "count = 0\n",
    "for i in np.arange(prediction.shape[0]):\n",
    "    if mushroom_edibility[int(prediction[i])] == mushroom_edibility[int(mushroom_test_target[i])]:\n",
    "        count += 1\n",
    "    \n",
    "print(\"Binary edibility accuracy:\", count/prediction.shape[0])\n"
   ]
  },
  {
   "cell_type": "code",
   "execution_count": 9,
   "metadata": {},
   "outputs": [
    {
     "name": "stdout",
     "output_type": "stream",
     "text": [
      "Binary edibility accuracy: 0.8472222222222222\n"
     ]
    }
   ],
   "source": [
    "prediction = rfc.predict(mushroom_test_data)\n",
    "\n",
    "count = 0\n",
    "for i in np.arange(prediction.shape[0]):\n",
    "    if mushroom_edibility[int(prediction[i])] == mushroom_edibility[int(mushroom_test_target[i])]:\n",
    "        count += 1\n",
    "    \n",
    "print(\"Binary edibility accuracy:\", count/prediction.shape[0])"
   ]
  }
 ],
 "metadata": {
  "kernelspec": {
   "display_name": "Python 3",
   "language": "python",
   "name": "python3"
  },
  "language_info": {
   "codemirror_mode": {
    "name": "ipython",
    "version": 3
   },
   "file_extension": ".py",
   "mimetype": "text/x-python",
   "name": "python",
   "nbconvert_exporter": "python",
   "pygments_lexer": "ipython3",
   "version": "3.8.3"
  }
 },
 "nbformat": 4,
 "nbformat_minor": 4
}
