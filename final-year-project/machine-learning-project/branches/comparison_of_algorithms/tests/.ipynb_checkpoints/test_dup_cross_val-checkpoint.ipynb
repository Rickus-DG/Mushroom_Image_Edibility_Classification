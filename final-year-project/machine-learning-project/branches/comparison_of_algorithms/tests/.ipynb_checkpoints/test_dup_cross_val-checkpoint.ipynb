{
 "cells": [
  {
   "cell_type": "code",
   "execution_count": null,
   "metadata": {},
   "outputs": [],
   "source": [
    "import numpy as np\n",
    "import math\n",
    "\n",
    "class cross_validation_score:\n",
    "    \"\"\"Does Scoring Cross Validation\"\"\"\n",
    "\n",
    "    def score(self, model, X, y, cv=5):\n",
    "        \"\"\"Given model and X, y returns cross val scores of number of folds cv\"\"\"\n",
    "\n",
    "        totalSize = X.shape[0]\n",
    "\n",
    "        sizes = self.getSegmentSizes(X, cv)\n",
    "        scores = list()\n",
    "        counter = 0\n",
    "        for size in sizes:\n",
    "            lowerBound = int(counter)\n",
    "            upperBound = int(counter + size)\n",
    "            X_test = np.array(X[lowerBound:upperBound,:])\n",
    "            y_test = np.array(y[lowerBound:upperBound])\n",
    "            X_train = np.vstack((np.array(X[:lowerBound,:]), np.array(X[upperBound:,:])))\n",
    "            y_train = np.hstack((np.array(y[:lowerBound]), np.array(y[upperBound:])))\n",
    "\n",
    "            model.fit(X_train, y_train)\n",
    "\n",
    "            scores.append(model.score(X_test, y_test))\n",
    "\n",
    "            counter = counter + size\n",
    "        return scores\n",
    "\n",
    "    def getSegmentSizes(self, X, cv):\n",
    "        \"\"\"Returns the number of samples which should be in each fold\"\"\"\n",
    "\n",
    "        totalSize = X.shape[0]\n",
    "        if cv > totalSize:\n",
    "            raise Exception(\"Set too small\")\n",
    "        segment = int(np.floor(totalSize/cv))\n",
    "        sizes = np.empty([cv])\n",
    "        sizes.fill(int(segment))\n",
    "        leftOver = totalSize - (segment * cv)\n",
    "\n",
    "        sizes[:leftOver] = sizes[:leftOver] + 1\n",
    "\n",
    "        return sizes\n",
    "\n"
   ]
  }
 ],
 "metadata": {
  "kernelspec": {
   "display_name": "Python 3",
   "language": "python",
   "name": "python3"
  },
  "language_info": {
   "codemirror_mode": {
    "name": "ipython",
    "version": 3
   },
   "file_extension": ".py",
   "mimetype": "text/x-python",
   "name": "python",
   "nbconvert_exporter": "python",
   "pygments_lexer": "ipython3",
   "version": "3.8.3"
  }
 },
 "nbformat": 4,
 "nbformat_minor": 4
}
