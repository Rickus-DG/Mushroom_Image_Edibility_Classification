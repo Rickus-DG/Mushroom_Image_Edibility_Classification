{
 "cells": [
  {
   "cell_type": "markdown",
   "metadata": {},
   "source": [
    "# Tests Import "
   ]
  },
  {
   "cell_type": "code",
   "execution_count": 1,
   "metadata": {},
   "outputs": [],
   "source": [
    "import os\n",
    "import sys\n",
    "sys.path.insert(0, os.path.abspath('..'))\n",
    "sys.path.insert(0, os.path.abspath('../algorithms'))\n",
    "\n",
    "from algorithms import nearestneighbor\n",
    "from nearestneighbor import KnnClassifier"
   ]
  },
  {
   "cell_type": "markdown",
   "metadata": {},
   "source": [
    "# Comparing difference in accuracy score for my k-nearest-neighbor implementation and sklearn's on iris data-set for all k"
   ]
  },
  {
   "cell_type": "code",
   "execution_count": 2,
   "metadata": {
    "scrolled": true
   },
   "outputs": [
    {
     "name": "stdout",
     "output_type": "stream",
     "text": [
      "[0.03, 0.03, 0.03, -0.03, 0.05, 0.03, 0.03, 0.05, 0.03, 0.03, 0.03, 0.03, 0.03, 0.03, 0.03, 0.03, 0.03, 0.03, 0.03, 0.03, 0.03] \n",
      "\n",
      "Differences are very small, this is due to the tie breaking methods used\n"
     ]
    }
   ],
   "source": [
    "import numpy as np\n",
    "from sklearn.datasets import load_iris\n",
    "from sklearn.model_selection import train_test_split\n",
    "from sklearn.neighbors import KNeighborsClassifier\n",
    "\n",
    "\n",
    "iris = load_iris()\n",
    "\n",
    "X_train, X_test, y_train, y_test = train_test_split(iris.data, iris.target, random_state=0)\n",
    "\n",
    "diff = list()\n",
    "for k in np.arange(1, X_train.shape[0]):\n",
    "    skKnn = KNeighborsClassifier(n_neighbors=k)\n",
    "    skKnn.fit(X_train, y_train)\n",
    "    knn = KnnClassifier(k)\n",
    "    knn.fit(X_train, y_train)\n",
    "    knnScore = knn.score(X_test, y_test)\n",
    "    skKnnScore = skKnn.score(X_test, y_test)\n",
    "    \n",
    "    if  knnScore != skKnnScore:\n",
    "        diff.append(np.around(knnScore - skKnnScore, decimals=2))\n",
    "print(diff, '\\n')\n",
    "print(\"Differences are very small, this is due to the tie breaking methods used\")"
   ]
  },
  {
   "cell_type": "markdown",
   "metadata": {},
   "source": [
    "# Prints true if same accuracy score is reached with sklearn's nearest-neighbor and mine on iris data-set "
   ]
  },
  {
   "cell_type": "code",
   "execution_count": 3,
   "metadata": {},
   "outputs": [
    {
     "name": "stdout",
     "output_type": "stream",
     "text": [
      "True\n"
     ]
    }
   ],
   "source": [
    "nn = KnnClassifier(1)\n",
    "nn.fit(X_train, y_train)\n",
    "skNn = KNeighborsClassifier(n_neighbors=1)\n",
    "skNn.fit(X_train, y_train)\n",
    "print(nn.score(X_test, y_test) == skNn.score(X_test, y_test))"
   ]
  },
  {
   "cell_type": "code",
   "execution_count": null,
   "metadata": {},
   "outputs": [],
   "source": []
  }
 ],
 "metadata": {
  "kernelspec": {
   "display_name": "Python 3",
   "language": "python",
   "name": "python3"
  },
  "language_info": {
   "codemirror_mode": {
    "name": "ipython",
    "version": 3
   },
   "file_extension": ".py",
   "mimetype": "text/x-python",
   "name": "python",
   "nbconvert_exporter": "python",
   "pygments_lexer": "ipython3",
   "version": "3.8.3"
  }
 },
 "nbformat": 4,
 "nbformat_minor": 4
}
