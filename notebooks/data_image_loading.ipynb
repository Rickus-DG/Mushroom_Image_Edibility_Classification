{
 "cells": [
  {
   "cell_type": "code",
   "execution_count": 7,
   "metadata": {},
   "outputs": [],
   "source": [
    "import os\n",
    "import sys\n",
    "import numpy as np\n",
    "import cv2\n",
    "import sklearn\n",
    "import fnmatch\n",
    "from matplotlib import pyplot as plt\n",
    "import imutils\n",
    "sys.path.insert(0, os.path.abspath('../..'))\n",
    "\n",
    "file_under_use = 'images_qual_nobg/'"
   ]
  },
  {
   "cell_type": "code",
   "execution_count": 8,
   "metadata": {},
   "outputs": [],
   "source": [
    "mushroomNames = []\n",
    "for mushroomName in os.listdir('../../MushroomImage/' + file_under_use):\n",
    "    mushroomNames.append(mushroomName)"
   ]
  },
  {
   "cell_type": "code",
   "execution_count": 9,
   "metadata": {},
   "outputs": [
    {
     "name": "stdout",
     "output_type": "stream",
     "text": [
      "533\n"
     ]
    }
   ],
   "source": [
    "numImages = 0\n",
    "for mushroomName in mushroomNames:\n",
    "    for imageName in os.listdir('../../MushroomImage/' + file_under_use + mushroomName):\n",
    "        numImages += 1\n",
    "print(numImages)"
   ]
  },
  {
   "cell_type": "markdown",
   "metadata": {},
   "source": [
    "## Deletes images"
   ]
  },
  {
   "cell_type": "markdown",
   "metadata": {},
   "source": [
    "print(image.flatten().shape)\n",
    "for mushroomName in mushroomNames:\n",
    "    for imageName in os.listdir('../../MushroomImage/' + file_under_use + mushroomName):\n",
    "        for imageName in os.listdir('../../MushroomImage/' + file_under_use + mushroomName):\n",
    "            os.remove('../../MushroomImage/' + file_under_use + mushroomName + '/' + imageName)\n",
    "        \n"
   ]
  },
  {
   "cell_type": "markdown",
   "metadata": {},
   "source": [
    "## Removes folders with less than 15 images"
   ]
  },
  {
   "cell_type": "markdown",
   "metadata": {},
   "source": [
    "import shutil\n",
    "\n",
    "for mushroomName in mushroomNames:\n",
    "    dirListing = os.listdir('../../MushroomImage/images_nobg/' + mushroomName)\n",
    "    if(len(dirListing) < 15):\n",
    "        try:\n",
    "            shutil.rmtree('../../MushroomImage/images_nobg/' + mushroomName)\n",
    "        except OSError as e:\n",
    "            print(\"Error: %s : %s\" % (dir_path, e.strerror))\n",
    "    print(len(dirListing))\n"
   ]
  },
  {
   "cell_type": "markdown",
   "metadata": {},
   "source": [
    "## Loads pictures"
   ]
  },
  {
   "cell_type": "markdown",
   "metadata": {},
   "source": [
    "\n",
    "\n",
    "mushroomNames = []\n",
    "for mushroomName in os.listdir('../../MushroomImage/' + 'images_qual/'):\n",
    "    mushroomNames.append(mushroomName)\n",
    "\n",
    "for mushroomName in mushroomNames[:]:\n",
    "    for imageName in os.listdir('../../MushroomImage/' + 'images_qual/' + mushroomName):\n",
    "        image = cv2.imread('../../MushroomImage/' + 'images_qual/' + mushroomName + '/' + imageName, cv2.IMREAD_COLOR)\n",
    "        try:\n",
    "            image = cv2.resize(image, (100,100))\n",
    "        except:\n",
    "            break\n",
    "        #image = cv2.cvtColor(image, cv2.COLOR_BGR2RGB)\n",
    "        rectangle = (5,5,90,90)\n",
    "        mask = np.zeros(image.shape[:2], np.uint8)\n",
    "        bgdModel = np.zeros((1,65), np.float64)\n",
    "        fgdModel = np.zeros((1,65), np.float64)\n",
    "        \n",
    "        cv2.grabCut(image,\n",
    "                   mask,\n",
    "                   rectangle,\n",
    "                   bgdModel,\n",
    "                   fgdModel,\n",
    "                   5,\n",
    "                   cv2.GC_INIT_WITH_RECT)\n",
    "        \n",
    "        mask_2 = np.where((mask==2) | (mask==0), 0, 1).astype('uint8')\n",
    "    \n",
    "        image_nobg = image * mask_2[:,:,np.newaxis]\n",
    "        sparsity = 1.0 - np.count_nonzero(image_nobg) / image_nobg.size\n",
    "        plt.imshow(image_nobg)\n",
    "        if(sparsity < 0.9):\n",
    "            cv2.imwrite('../../MushroomImage/' + file_under_use  + mushroomName + '/' + imageName, image_nobg)\n",
    "            print(mushroomName)\n",
    "        #cv2.imwrite('../../MushroomImage/' + file_under_use  + mushroomName + '/' + imageName, image)\n",
    "print(image.flatten().shape)"
   ]
  },
  {
   "cell_type": "code",
   "execution_count": 11,
   "metadata": {},
   "outputs": [
    {
     "name": "stdout",
     "output_type": "stream",
     "text": [
      "100\n",
      "100\n",
      "100\n",
      "100\n",
      "100\n",
      "100\n",
      "100\n"
     ]
    }
   ],
   "source": [
    "import shutil\n",
    "\n",
    "for mushroomName in mushroomNames:\n",
    "    dirListing = os.listdir('../../MushroomImage/images_qual_nobg/' + mushroomName)\n",
    "    print(len(dirListing))"
   ]
  }
 ],
 "metadata": {
  "kernelspec": {
   "display_name": "Python 3",
   "language": "python",
   "name": "python3"
  },
  "language_info": {
   "codemirror_mode": {
    "name": "ipython",
    "version": 3
   },
   "file_extension": ".py",
   "mimetype": "text/x-python",
   "name": "python",
   "nbconvert_exporter": "python",
   "pygments_lexer": "ipython3",
   "version": "3.8.3"
  }
 },
 "nbformat": 4,
 "nbformat_minor": 4
}
