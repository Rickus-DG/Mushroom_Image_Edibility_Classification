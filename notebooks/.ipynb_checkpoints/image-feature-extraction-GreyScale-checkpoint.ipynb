{
 "cells": [
  {
   "cell_type": "code",
   "execution_count": 55,
   "metadata": {},
   "outputs": [],
   "source": [
    "import os\n",
    "import sys\n",
    "import numpy as np\n",
    "import cv2\n",
    "import sklearn\n",
    "import fnmatch\n",
    "from matplotlib import pyplot as plt\n",
    "import imutils\n",
    "sys.path.insert(0, os.path.abspath('../..'))\n",
    "\n",
    "file_under_use = 'images_qual_nobg/'\n",
    "imagePixelSize = 16"
   ]
  },
  {
   "cell_type": "code",
   "execution_count": 56,
   "metadata": {},
   "outputs": [],
   "source": [
    "mushroomNames = []\n",
    "for mushroomName in os.listdir('../../MushroomImage/' + file_under_use):\n",
    "    mushroomNames.append(mushroomName)"
   ]
  },
  {
   "cell_type": "code",
   "execution_count": 57,
   "metadata": {},
   "outputs": [
    {
     "name": "stdout",
     "output_type": "stream",
     "text": [
      "1150\n"
     ]
    }
   ],
   "source": [
    "numImages = 0\n",
    "for mushroomName in mushroomNames:\n",
    "    for imageName in os.listdir('../../MushroomImage/' + file_under_use + mushroomName):\n",
    "        numImages += 1\n",
    "print(numImages)"
   ]
  },
  {
   "cell_type": "code",
   "execution_count": 58,
   "metadata": {},
   "outputs": [
    {
     "name": "stdout",
     "output_type": "stream",
     "text": [
      "281\n",
      "869\n"
     ]
    }
   ],
   "source": [
    "index = 0\n",
    "testCount = 0\n",
    "trainCount = 0\n",
    "for mushroomName in mushroomNames:\n",
    "    dirListing = os.listdir('../../MushroomImage/' + file_under_use + mushroomName)\n",
    "    numImages = len(dirListing) \n",
    "    train = int(numImages * (3/4))\n",
    "    count = 0\n",
    "    for imageName in os.listdir('../../MushroomImage/' + file_under_use + mushroomName):\n",
    "        \n",
    "        if count <= train:\n",
    "            trainCount += 1\n",
    "        else:\n",
    "            testCount += 1\n",
    "        index += 1\n",
    "        count += 1\n",
    "        \n",
    "print(testCount)\n",
    "print(trainCount)"
   ]
  },
  {
   "cell_type": "code",
   "execution_count": 59,
   "metadata": {},
   "outputs": [],
   "source": [
    "images_train = np.empty([trainCount, imagePixelSize+1]) \n",
    "images_test = np.empty([testCount, imagePixelSize+1]) \n",
    "\n",
    "\n",
    "def extract_lines(image):\n",
    "    median_intensity = np.median(image)\n",
    "    image = cv2.resize(image, (40,40))\n",
    "    lower_threshold = int(max(0, (1.0 - 0.33) * median_intensity))\n",
    "    upper_threshold = int(max(255, (1.0 + 0.33) * median_intensity))\n",
    "    eigenvalues, eigenvectors = np.linalg.eig(image)\n",
    "    image = cv2.Canny(image, lower_threshold, upper_threshold)\n",
    "    zoned_image = np.empty([4,4])\n",
    "    for i in range(0,4):\n",
    "        for j in range(0, 4):\n",
    "            image_small = image[i*10:i*10+10,j*10:j*10+10]\n",
    "            zoned_image[i,j] = np.count_nonzero(image_small)\n",
    "            \n",
    "            #plt.imshow(image_small, cmap=\"gray\")\n",
    "            #plt.show()\n",
    "    #return eigenvectors.flatten()       \n",
    "    return zoned_image.flatten()\n",
    "    \n",
    "    \n",
    "    \n",
    "    \n",
    "\n"
   ]
  },
  {
   "cell_type": "code",
   "execution_count": 46,
   "metadata": {},
   "outputs": [
    {
     "name": "stdout",
     "output_type": "stream",
     "text": [
      "10056_Agaricus_arvensis/APE2017-9209310_ryWuUHHx9b.JPG\n",
      "10056_Agaricus_arvensis/APE2017-9209310_Syx_8HSecZ.JPG\n",
      "10056_Agaricus_arvensis/AS2017-9198855_SJlX77rf8b - Copy.JPG\n",
      "10056_Agaricus_arvensis/AS2017-9198855_SJlX77rf8b.JPG\n",
      "10056_Agaricus_arvensis/BEC2017-9193117_Sk2fbiyW-.JPG\n",
      "10056_Agaricus_arvensis/BEC2017-9195590_BJgSJGRSQ-.JPG\n",
      "10056_Agaricus_arvensis/BEC2017-9195590_HJgKLbCBmW.JPG\n",
      "10056_Agaricus_arvensis/BEC2017-9195590_SytI-0Smb.JPG\n",
      "10056_Agaricus_arvensis/CL2010PIC12882174.JPG\n",
      "10056_Agaricus_arvensis/DI2017-9212509_SJZDe9En5-.JPG\n",
      "10056_Agaricus_arvensis/JC2017-9216258_B1MJtkm4iZ.JPG\n",
      "10056_Agaricus_arvensis/JM2012PIC68640399.JPG\n",
      "10056_Agaricus_arvensis/LWL2011PIC40629645.JPG\n",
      "10056_Agaricus_arvensis/MAV2015PIC15623431 - Copy.JPG\n",
      "10056_Agaricus_arvensis/MAV2015PIC15623431.JPG\n",
      "10056_Agaricus_arvensis/MAV2017-9221402_SJOTW9JhZ.JPG\n",
      "10056_Agaricus_arvensis/MAV2017-9221569_H1Q3Z6J2-.JPG\n",
      "10056_Agaricus_arvensis/ML2012PIC69868020.JPG\n",
      "10056_Agaricus_arvensis/OBL2012PIC22638818.JPG\n",
      "10056_Agaricus_arvensis/PEL2009PIC10506376.JPG\n",
      "10056_Agaricus_arvensis/PEL2009PIC41326678.JPG\n",
      "10056_Agaricus_arvensis/PEL2010PIC74264475.JPG\n",
      "10056_Agaricus_arvensis/RRH2017-9207410_S1HwztVFZ.JPG\n",
      "14454_Gyromitra_esculenta/AE2011PIC22617764.JPG\n",
      "14454_Gyromitra_esculenta/AE2013PIC20873917.JPG\n",
      "14454_Gyromitra_esculenta/AE2014PIC38270741.JPG\n",
      "14454_Gyromitra_esculenta/AS2009PIC18137478.JPG\n",
      "14454_Gyromitra_esculenta/BC2012PIC47095118.JPG\n",
      "14454_Gyromitra_esculenta/BNB2017-9190732_S1Mh-wK0g.JPG\n",
      "14454_Gyromitra_esculenta/BTO2017-9190124_H1oYaz0Te.JPG\n",
      "14454_Gyromitra_esculenta/EAT2012PIC22100626.JPG\n",
      "14454_Gyromitra_esculenta/EAT2012PIC25089754.JPG\n",
      "14454_Gyromitra_esculenta/JHV2010PIC51041572.JPG\n",
      "14454_Gyromitra_esculenta/JHV2015PIC40330010.JPG\n",
      "14454_Gyromitra_esculenta/JM2012PIC75708460.JPG\n",
      "14454_Gyromitra_esculenta/JMI2017-9194525_rJtUTmnM-.JPG\n",
      "14454_Gyromitra_esculenta/KIH2017-9192404_HygLnNL7eZ.JPG\n",
      "14454_Gyromitra_esculenta/KIH2017-9192404_SyUnE8QgZ.JPG\n",
      "14454_Gyromitra_esculenta/LBC2013PIC79548475.JPG\n",
      "14454_Gyromitra_esculenta/NVM2010PIC66877320.JPG\n",
      "14454_Gyromitra_esculenta/NVM2012PIC25516492.JPG\n",
      "14454_Gyromitra_esculenta/NVM2014PIC34527472.JPG\n",
      "14454_Gyromitra_esculenta/NVM2014PIC65938157.JPG\n",
      "14454_Gyromitra_esculenta/PETRA2013PIC32788849.JPG\n",
      "14454_Gyromitra_esculenta/PTP2014PIC59091445.JPG\n",
      "14454_Gyromitra_esculenta/TSJ2017-9189976_Bklwjfaoae.JPG\n"
     ]
    }
   ],
   "source": [
    "train_index = 0\n",
    "test_index = 0\n",
    "for mushroomName in mushroomNames:\n",
    "    dirListing = os.listdir('../../MushroomImage/' + file_under_use + mushroomName)\n",
    "    numImages = len(dirListing) \n",
    "    train = int(numImages * (3/4))\n",
    "    count = 0\n",
    "    for imageName in os.listdir('../../MushroomImage/' + file_under_use + mushroomName):\n",
    "        \n",
    "        image = cv2.imread('../../MushroomImage/' + file_under_use + mushroomName + '/' + imageName, cv2.IMREAD_GRAYSCALE)\n",
    "        filter = np.array([[-1, -1, -1], [-1, 9, -1], [-1, -1, -1]])\n",
    "        image = cv2.blur(image, (3,3))\n",
    "        print(mushroomName + '/' + imageName)\n",
    "        \n",
    "        if count <= train:\n",
    "            images_train[train_index] = np.append(extract_lines(image), np.array([mushroomNames.index(mushroomName)]), axis = 0)\n",
    "            train_index += 1\n",
    "        else:\n",
    "            images_test[test_index] = np.append(extract_lines(image), np.array([mushroomNames.index(mushroomName)]), axis = 0)\n",
    "            test_index += 1\n",
    "        count += 1"
   ]
  },
  {
   "cell_type": "code",
   "execution_count": 47,
   "metadata": {
    "scrolled": false
   },
   "outputs": [
    {
     "name": "stdout",
     "output_type": "stream",
     "text": [
      "dict_keys(['algorithm', 'leaf_size', 'metric', 'metric_params', 'n_jobs', 'n_neighbors', 'p', 'weights'])\n",
      "1.0\n",
      "10056_Agaricus_arvensis    10056_Agaricus_arvensis\n",
      "10056_Agaricus_arvensis    10056_Agaricus_arvensis\n",
      "10056_Agaricus_arvensis    10056_Agaricus_arvensis\n",
      "10056_Agaricus_arvensis    10056_Agaricus_arvensis\n",
      "10056_Agaricus_arvensis    10056_Agaricus_arvensis\n",
      "14454_Gyromitra_esculenta    14454_Gyromitra_esculenta\n",
      "14454_Gyromitra_esculenta    14454_Gyromitra_esculenta\n",
      "14454_Gyromitra_esculenta    14454_Gyromitra_esculenta\n",
      "14454_Gyromitra_esculenta    14454_Gyromitra_esculenta\n",
      "14454_Gyromitra_esculenta    14454_Gyromitra_esculenta\n",
      "[0. 0. 0. 0. 0. 1. 1. 1. 1. 1.]\n"
     ]
    }
   ],
   "source": [
    "from sklearn import tree\n",
    "from sklearn.neighbors import KNeighborsClassifier\n",
    "from sklearn.preprocessing import StandardScaler\n",
    "from sklearn.discriminant_analysis import LinearDiscriminantAnalysis\n",
    "from sklearn.neural_network import MLPClassifier\n",
    "from sklearn.decomposition import PCA\n",
    "from sklearn.model_selection import GridSearchCV\n",
    "\n",
    "mushroom_train_data = images_train[:,:imagePixelSize]\n",
    "mushroom_train_target = images_train[:,-1]\n",
    "mushroom_test_data = images_test[:,:imagePixelSize]\n",
    "mushroom_test_target = images_test[:,-1]\n",
    "\n",
    "#scaler = LinearDiscriminantAnalysis()\n",
    "#scaler.fit(mushroom_train_data, mushroom_train_target)\n",
    "#mushroom_train_data = scaler.transform(mushroom_train_data)\n",
    "#mushroom_test_data = scaler.transform(mushroom_test_data)\n",
    "\n",
    "#pca = PCA(n_components=0.5, whiten=True)\n",
    "#pca.fit(mushroom_train_data)\n",
    "#mushroom_train_data = pca.transform(mushroom_train_data)\n",
    "#mushroom_test_data = pca.transform(mushroom_test_data)\n",
    "#print(mushroom_train_data)\n",
    "\n",
    "\n",
    "#knn = tree.DecisionTreeClassifier()\n",
    "knn = KNeighborsClassifier(n_neighbors= 11)\n",
    "\n",
    "\n",
    "knn.fit(mushroom_train_data, mushroom_train_target)\n",
    "print(knn.get_params().keys())\n",
    "\n",
    "knnScore = knn.score(mushroom_test_data,mushroom_test_target)\n",
    "print(knnScore)\n",
    "predict = knn.predict(mushroom_test_data)\n",
    "\n",
    "for i in np.arange(mushroom_test_target.shape[0]):\n",
    "    print(mushroomNames[int(predict[i])] + \"    \" + mushroomNames[int(mushroom_test_target[i])])\n",
    "print(mushroom_test_target)"
   ]
  },
  {
   "cell_type": "markdown",
   "metadata": {},
   "source": [
    "## deletes images"
   ]
  },
  {
   "cell_type": "markdown",
   "metadata": {
    "scrolled": true
   },
   "source": [
    "print(image.flatten().shape)\n",
    "for mushroomName in mushroomNames:\n",
    "    for imageName in os.listdir('../../MushroomImage/' + file_under_use + mushroomName):\n",
    "        for imageName in os.listdir('../../MushroomImage/' + file_under_use + mushroomName):\n",
    "            os.remove('../../MushroomImage/' + file_under_use + mushroomName + '/' + imageName)\n",
    "        \n"
   ]
  },
  {
   "cell_type": "markdown",
   "metadata": {},
   "source": [
    "## Removes folders with less than 15 images"
   ]
  },
  {
   "cell_type": "markdown",
   "metadata": {},
   "source": [
    "import shutil\n",
    "\n",
    "for mushroomName in mushroomNames:\n",
    "    dirListing = os.listdir('../../MushroomImage/images_nobg/' + mushroomName)\n",
    "    if(len(dirListing) < 15):\n",
    "        try:\n",
    "            shutil.rmtree('../../MushroomImage/images_nobg/' + mushroomName)\n",
    "        except OSError as e:\n",
    "            print(\"Error: %s : %s\" % (dir_path, e.strerror))\n",
    "    print(len(dirListing))\n"
   ]
  },
  {
   "cell_type": "code",
   "execution_count": 48,
   "metadata": {},
   "outputs": [],
   "source": [
    "from numpy import savetxt\n",
    "savetxt('../mushroom_images/mushroom_image_train_shape_data.csv', mushroom_train_data, delimiter=',')\n",
    "savetxt('../mushroom_images/mushroom_image_train_shape_target.csv', mushroom_train_target, delimiter=',')\n",
    "savetxt('../mushroom_images/mushroom_image_test_shape_data.csv', mushroom_test_data, delimiter=',')\n",
    "savetxt('../mushroom_images/mushroom_image_test_shape_target.csv', mushroom_test_target, delimiter=',')"
   ]
  },
  {
   "cell_type": "code",
   "execution_count": null,
   "metadata": {},
   "outputs": [],
   "source": [
    "\n",
    "\n",
    "mushroomNames = []\n",
    "for mushroomName in os.listdir('../../MushroomImage/' + 'images_qual/'):\n",
    "    mushroomNames.append(mushroomName)\n",
    "\n",
    "for mushroomName in mushroomNames[:]:\n",
    "    for imageName in os.listdir('../../MushroomImage/' + 'images_qual/' + mushroomName):\n",
    "        image = cv2.imread('../../MushroomImage/' + 'images_qual/' + mushroomName + '/' + imageName, cv2.IMREAD_COLOR)\n",
    "        try:\n",
    "            image = cv2.resize(image, (100,100))\n",
    "        except:\n",
    "            break\n",
    "        #image = cv2.cvtColor(image, cv2.COLOR_BGR2RGB)\n",
    "        rectangle = (5,5,90,90)\n",
    "        mask = np.zeros(image.shape[:2], np.uint8)\n",
    "        bgdModel = np.zeros((1,65), np.float64)\n",
    "        fgdModel = np.zeros((1,65), np.float64)\n",
    "        \n",
    "        cv2.grabCut(image,\n",
    "                   mask,\n",
    "                   rectangle,\n",
    "                   bgdModel,\n",
    "                   fgdModel,\n",
    "                   5,\n",
    "                   cv2.GC_INIT_WITH_RECT)\n",
    "        \n",
    "        mask_2 = np.where((mask==2) | (mask==0), 0, 1).astype('uint8')\n",
    "    \n",
    "        image_nobg = image * mask_2[:,:,np.newaxis]\n",
    "        sparsity = 1.0 - np.count_nonzero(image_nobg) / image_nobg.size\n",
    "        plt.imshow(image_nobg)\n",
    "        if(sparsity < 0.9):\n",
    "            cv2.imwrite('../../MushroomImage/' + file_under_use  + mushroomName + '/' + imageName, image_nobg)\n",
    "            print(mushroomName)\n",
    "        #cv2.imwrite('../../MushroomImage/' + file_under_use  + mushroomName + '/' + imageName, image)\n",
    "print(image.flatten().shape)"
   ]
  },
  {
   "cell_type": "code",
   "execution_count": null,
   "metadata": {},
   "outputs": [],
   "source": []
  }
 ],
 "metadata": {
  "kernelspec": {
   "display_name": "Python 3",
   "language": "python",
   "name": "python3"
  },
  "language_info": {
   "codemirror_mode": {
    "name": "ipython",
    "version": 3
   },
   "file_extension": ".py",
   "mimetype": "text/x-python",
   "name": "python",
   "nbconvert_exporter": "python",
   "pygments_lexer": "ipython3",
   "version": "3.8.3"
  }
 },
 "nbformat": 4,
 "nbformat_minor": 4
}
