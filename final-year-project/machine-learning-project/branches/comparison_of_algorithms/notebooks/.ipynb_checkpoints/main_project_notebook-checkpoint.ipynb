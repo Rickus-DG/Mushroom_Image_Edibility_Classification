{
 "cells": [
  {
   "cell_type": "markdown",
   "metadata": {},
   "source": [
    "## Imports"
   ]
  },
  {
   "cell_type": "code",
   "execution_count": 1,
   "metadata": {},
   "outputs": [],
   "source": [
    "import os\n",
    "import sys\n",
    "sys.path.insert(0, os.path.abspath('..'))\n",
    "sys.path.insert(0, os.path.abspath('../algorithms'))\n",
    "sys.path.insert(0, os.path.abspath('../scoring'))\n",
    "\n",
    "from algorithms import nearestneighbor\n",
    "from nearestneighbor import KnnClassifier\n",
    "from algorithms import decisiontree\n",
    "from decisiontree import TreeClassifier\n",
    "from decisiontree import RandomForestClassifier\n",
    "from algorithms import supportvector\n",
    "from supportvector import SVC, SVC_multi\n",
    "from sklearn.preprocessing import StandardScaler\n",
    "from scores import cross_validation_score\n",
    "import matplotlib.pyplot as plt\n",
    "import numpy as np\n",
    "from sklearn.feature_selection import SelectKBest\n",
    "from sklearn.feature_selection import chi2\n"
   ]
  },
  {
   "cell_type": "markdown",
   "metadata": {},
   "source": [
    "# 1) Data-sets"
   ]
  },
  {
   "cell_type": "markdown",
   "metadata": {},
   "source": [
    "## Reading in the data\n",
    "\n",
    "The data pulled in here from the csv files comprise a test set and a training set of corrisponding color histogram information. The test set contains 25 unique values for different mushrooms for each of the six species tested. The training set contains 75 samples for each species however, sampling with replacement was carried out due to lack of unique data, to balance the data set, meaning duplicates are in the training set, none of this image data is in the test-set."
   ]
  },
  {
   "cell_type": "markdown",
   "metadata": {},
   "source": [
    "### Labels\n",
    "\n",
    "Binary (0,1) 0 for edible, 1 for poisonous\n",
    "- y_train_bin\n",
    "- y_test_bin\n",
    "\n",
    "Multi Class (0, 1, 2, 3, 4, 5, 6) each corrisponding to a species of mushroom\n",
    "- y_train\n",
    "- y_test\n",
    "\n",
    "### Samples\n",
    "\n",
    "The 512 features scaled by standard scaler\n",
    "- X_train_sc\n",
    "- X_test_sc\n",
    "\n",
    "8 best featues seleted by chi$^2$ (Used for decision-tree and random forest as experiments where all features were used were too computationally expensive for realistic testing)\n",
    "- X_train_best\n",
    "- X_test_best"
   ]
  },
  {
   "cell_type": "code",
   "execution_count": 2,
   "metadata": {},
   "outputs": [],
   "source": [
    "X_train = np.genfromtxt('../mushroom_images/mushroom_image_train_color_data.csv', delimiter=\",\")\n",
    "y_train_bin = np.genfromtxt('../mushroom_images/mushroom_image_train_color_target.csv', delimiter=\",\")\n",
    "X_test = np.genfromtxt('../mushroom_images/mushroom_image_test_color_data.csv', delimiter=\",\")\n",
    "y_test_bin = np.genfromtxt('../mushroom_images/mushroom_image_test_color_target.csv', delimiter=\",\")\n",
    "mushroom_edibility = [0,1,0,0,1,1] #The index of the element corrisponds to the species label \n",
    "                                   #number and 0 means edible, 1 means poisonous\n",
    "    \n",
    "#Turns multi-class labels to zero and ones\n",
    "for i in np.arange(X_train.shape[0]):\n",
    "    y_train_bin[i] = mushroom_edibility[int(y_train_bin[i])]\n",
    "    \n",
    "for i in np.arange(X_test.shape[0]):\n",
    "    y_test_bin[i] = mushroom_edibility[int(y_test_bin[i])]\n"
   ]
  },
  {
   "cell_type": "markdown",
   "metadata": {},
   "source": [
    "The data pulled in here consists of the labels for the multi-class species problem"
   ]
  },
  {
   "cell_type": "code",
   "execution_count": 3,
   "metadata": {},
   "outputs": [],
   "source": [
    "y_train = np.genfromtxt('../mushroom_images/mushroom_image_train_color_target.csv', delimiter=\",\")\n",
    "y_test = np.genfromtxt('../mushroom_images/mushroom_image_test_color_target.csv', delimiter=\",\")"
   ]
  },
  {
   "cell_type": "markdown",
   "metadata": {},
   "source": [
    "X_train and X_test scaled by standard scaler using StandardScaler"
   ]
  },
  {
   "cell_type": "code",
   "execution_count": 4,
   "metadata": {},
   "outputs": [],
   "source": [
    "scaler = StandardScaler()\n",
    "scaler.fit(X_train)\n",
    "X_train_sc = scaler.transform(X_train)\n",
    "X_test_sc = scaler.transform(X_test)"
   ]
  },
  {
   "cell_type": "markdown",
   "metadata": {},
   "source": [
    "Selects top features that have the biggest effect on the X_train's labels and constructs a X_train and X_test that only consist of these features."
   ]
  },
  {
   "cell_type": "code",
   "execution_count": 5,
   "metadata": {},
   "outputs": [],
   "source": [
    "selector = SelectKBest(chi2,k=8)\n",
    "selector.fit(X_train, y_train)\n",
    "X_train_best = selector.transform(X_train)\n",
    "X_test_best = selector.transform(X_test)"
   ]
  },
  {
   "cell_type": "markdown",
   "metadata": {},
   "source": [
    "# 2) Tuning Parameters"
   ]
  },
  {
   "cell_type": "markdown",
   "metadata": {},
   "source": [
    "## $k$ nearest-neighbours\n",
    "\n",
    "As this algorithm only has one parameter it is possible with my python implementation, to exhaustively test the parameters using my implemetation of cross validation, which carries out rescaling with every fold, to avoid data snooping.\n",
    "\n",
    "### Selecting $k$\n",
    "Red line indicates best $k$"
   ]
  },
  {
   "cell_type": "code",
   "execution_count": 6,
   "metadata": {},
   "outputs": [
    {
     "name": "stdout",
     "output_type": "stream",
     "text": [
      "Optimisation graph for k with binary labels\n"
     ]
    },
    {
     "data": {
      "image/png": "[encoded data removed]",
      "text/plain": [
       "<Figure size 432x288 with 1 Axes>"
      ]
     },
     "metadata": {
      "needs_background": "light"
     },
     "output_type": "display_data"
    },
    {
     "name": "stdout",
     "output_type": "stream",
     "text": [
      "Best k is 23 as it is the top of the generalisation curve\n"
     ]
    }
   ],
   "source": [
    "scores = list()\n",
    "crossvalscores = list()\n",
    "top_k = 40\n",
    "scaler = StandardScaler()\n",
    "\n",
    "\n",
    "for k in range(1,top_k, 1):\n",
    "    knn = KnnClassifier(k)\n",
    "    knn.fit(X_train, y_train_bin)\n",
    "    knnScore = knn.score(X_train, y_train_bin)\n",
    "    scores.append(knnScore)\n",
    "    cvs = cross_validation_score()\n",
    "    crossvalscores.append(np.mean(cvs.score(knn, X_train, y_train_bin, cv=75,scaler=scaler)))\n",
    "plt.plot(np.arange(1,top_k, 1), scores)\n",
    "plt.plot(np.arange(1,top_k, 1), crossvalscores)\n",
    "plt.xlim(top_k , 0)\n",
    "plt.xlabel(\"Model complexity (k)\")\n",
    "plt.ylabel(\"Accuracy score\")\n",
    "plt.legend([\"Train score\", \"Leave one out cross validation score\"])\n",
    "plt.axvline(23, 0, 1, label='k=20', c='red')\n",
    "print(\"Optimisation graph for k with binary labels\" )\n",
    "plt.show()\n",
    "print(\"Best k is 23 as it is the top of the generalisation curve\")"
   ]
  },
  {
   "cell_type": "code",
   "execution_count": 7,
   "metadata": {},
   "outputs": [
    {
     "name": "stdout",
     "output_type": "stream",
     "text": [
      "Optimisation graph for k with multi-class labels\n"
     ]
    },
    {
     "data": {
      "image/png": "[encoded data removed]",
      "text/plain": [
       "<Figure size 432x288 with 1 Axes>"
      ]
     },
     "metadata": {
      "needs_background": "light"
     },
     "output_type": "display_data"
    },
    {
     "name": "stdout",
     "output_type": "stream",
     "text": [
      "Best k is 20 as it is the top of the generalisation curve\n"
     ]
    }
   ],
   "source": [
    "scores = list()\n",
    "crossvalscores = list()\n",
    "top_k = 40\n",
    "scaler = StandardScaler()\n",
    "\n",
    "for k in range(1,top_k, 1):\n",
    "    knn = KnnClassifier(k)\n",
    "    knn.fit(X_train, y_train)\n",
    "    knnScore = knn.score(X_train, y_train)\n",
    "    scores.append(knnScore)\n",
    "    cvs = cross_validation_score()\n",
    "    crossvalscores.append(np.mean(cvs.score(knn, X_train, y_train, cv=75,scaler=scaler)))\n",
    "plt.plot(np.arange(1,top_k, 1), scores)\n",
    "plt.plot(np.arange(1,top_k, 1), crossvalscores)\n",
    "plt.xlim(top_k , 0)\n",
    "plt.xlabel(\"Model complexity (k)\")\n",
    "plt.ylabel(\"Accuracy score\")\n",
    "plt.legend([\"Train score\", \"Leave one out cross validation score\"])\n",
    "plt.axvline(20, 0, 1, label='k=20', c='red')\n",
    "print(\"Optimisation graph for k with multi-class labels\" )\n",
    "plt.show()\n",
    "print(\"Best k is 20 as it is the top of the generalisation curve\")"
   ]
  },
  {
   "cell_type": "markdown",
   "metadata": {},
   "source": [
    "## Decision tree\n",
    "\n",
    "It was not computationally viable to carry out grid search with multiple parameters with my implementation as my implementaion of decision tree is written in python and takes a long time to run. Therefore this project will use sci-kit learn's implementation of decision_tree only to tune parameters, the end tests will use the projects' implementation. Pipeline and GridSearch will also be used from the sklearn library.\n"
   ]
  },
  {
   "cell_type": "code",
   "execution_count": 8,
   "metadata": {},
   "outputs": [],
   "source": [
    "from sklearn import tree as decision_tree\n",
    "from sklearn.pipeline import Pipeline\n",
    "from sklearn.model_selection import GridSearchCV"
   ]
  },
  {
   "cell_type": "code",
   "execution_count": 9,
   "metadata": {},
   "outputs": [
    {
     "name": "stdout",
     "output_type": "stream",
     "text": [
      "Best parameters for binary labels\n",
      "Best tree_height: 2\n",
      "Best length_stopping_criterion: 53\n"
     ]
    }
   ],
   "source": [
    "tree = decision_tree.DecisionTreeClassifier()\n",
    "parameters = dict(max_depth=np.arange(1,75).tolist(), min_samples_leaf=np.arange(1,75).tolist())\n",
    "grid_search = GridSearchCV(estimator=tree, param_grid=parameters)\n",
    "grid_search.fit(X_train_best, y_train_bin)\n",
    "print(\"Best parameters for binary labels\")\n",
    "print('Best tree_height:', grid_search.best_estimator_.get_params()['max_depth'])\n",
    "print('Best length_stopping_criterion:', grid_search.best_estimator_.get_params()['min_samples_leaf'])"
   ]
  },
  {
   "cell_type": "code",
   "execution_count": 10,
   "metadata": {},
   "outputs": [
    {
     "name": "stdout",
     "output_type": "stream",
     "text": [
      "Best parameters for multi class labels\n",
      "Best tree_height: 4\n",
      "Best length_stopping_criterion: 36\n"
     ]
    }
   ],
   "source": [
    "tree = decision_tree.DecisionTreeClassifier()\n",
    "parameters = dict(max_depth=np.arange(1,75).tolist(), min_samples_leaf=np.arange(1,75).tolist())\n",
    "grid_search = GridSearchCV(estimator=tree, param_grid=parameters)\n",
    "grid_search.fit(X_train_best, y_train)\n",
    "print(\"Best parameters for multi class labels\")\n",
    "print('Best tree_height:', grid_search.best_estimator_.get_params()['max_depth'])\n",
    "print('Best length_stopping_criterion:', grid_search.best_estimator_.get_params()['min_samples_leaf'])"
   ]
  },
  {
   "cell_type": "markdown",
   "metadata": {},
   "source": [
    "## Random forest\n",
    "It was not computationally viable to carry out grid search with multiple parameters with my implementation as my implementaion of decision tree is written in python and takes a long time to run. Therefore this project will use sci-kit learn's implementation of random_forest only to tune parameters, the end tests will use the projects' implementation. GridSearch will also be used from the sklearn library."
   ]
  },
  {
   "cell_type": "code",
   "execution_count": 11,
   "metadata": {},
   "outputs": [],
   "source": [
    "from sklearn.ensemble import RandomForestClassifier as RFC"
   ]
  },
  {
   "cell_type": "code",
   "execution_count": 12,
   "metadata": {},
   "outputs": [
    {
     "name": "stdout",
     "output_type": "stream",
     "text": [
      "Best parameters for binary labels\n",
      "Best length_stopping_criterion: 1\n",
      "Best ratio: 0.013333333333333334\n"
     ]
    }
   ],
   "source": [
    "rfc = RFC()\n",
    "step = 5\n",
    "parameters = dict(min_samples_leaf=np.arange(1,75,step).tolist(), max_samples=np.arange(1,75,step,).tolist()\n",
    "            ,n_estimators=[100])\n",
    "grid_search = GridSearchCV(estimator=rfc, param_grid=parameters, cv=10)\n",
    "grid_search.fit(X_train_best, y_train_bin)\n",
    "print(\"Best parameters for binary labels\")\n",
    "print('Best length_stopping_criterion:', grid_search.best_estimator_.get_params()['min_samples_leaf'])\n",
    "print('Best ratio:', grid_search.best_estimator_.get_params()['max_samples']/X_train.shape[0])"
   ]
  },
  {
   "cell_type": "code",
   "execution_count": 13,
   "metadata": {},
   "outputs": [
    {
     "name": "stdout",
     "output_type": "stream",
     "text": [
      "Best parameters for binary labels\n",
      "Best length_stopping_criterion: 6\n",
      "Best ratio: 0.13555555555555557\n"
     ]
    }
   ],
   "source": [
    "rfc = RFC()\n",
    "step = 5\n",
    "parameters = dict(min_samples_leaf=np.arange(1,75,step).tolist(), max_samples=np.arange(1,75,step,).tolist()\n",
    "            ,n_estimators=[100])\n",
    "grid_search = GridSearchCV(estimator=rfc, param_grid=parameters, cv=10)\n",
    "grid_search.fit(X_train_best, y_train)\n",
    "print(\"Best parameters for binary labels\")\n",
    "print('Best length_stopping_criterion:', grid_search.best_estimator_.get_params()['min_samples_leaf'])\n",
    "print('Best ratio:', grid_search.best_estimator_.get_params()['max_samples']/X_train.shape[0])"
   ]
  },
  {
   "cell_type": "markdown",
   "metadata": {},
   "source": [
    "## Support Vector Classifier\n",
    "My implementation uses different parameters to the sklearn implementation, so I chose number of iterations to be high (5000) and learn rate and lambda for my implementation to be low , both being 0.01. This gives the best model as the line moves slowly but after enough iterations will get the right hyperplane"
   ]
  },
  {
   "cell_type": "markdown",
   "metadata": {},
   "source": [
    "# 3) Getting accuracy scores\n",
    "\n",
    "This section only uses this projects implementation of the algorithms"
   ]
  },
  {
   "cell_type": "markdown",
   "metadata": {},
   "source": [
    "# 3.1) Binary mushroom edible or mushroom poisonous problem"
   ]
  },
  {
   "cell_type": "code",
   "execution_count": 14,
   "metadata": {},
   "outputs": [],
   "source": [
    "binary_scores= {}\n",
    "binary_predictions = {}"
   ]
  },
  {
   "cell_type": "markdown",
   "metadata": {},
   "source": [
    "## $k$ nearest-neighbours"
   ]
  },
  {
   "cell_type": "code",
   "execution_count": 15,
   "metadata": {},
   "outputs": [
    {
     "name": "stdout",
     "output_type": "stream",
     "text": [
      "Binary accuracy: 0.8\n"
     ]
    }
   ],
   "source": [
    "knn = KnnClassifier(23)\n",
    "knn.fit(X_train_sc, y_train_bin)\n",
    "binary_scores['knn'] = round(knn.score(X_test_sc, y_test_bin), 2)\n",
    "binary_predictions['knn'] = knn.predict(X_test_sc)\n",
    "print(\"Binary accuracy:\",binary_scores['knn'])"
   ]
  },
  {
   "cell_type": "markdown",
   "metadata": {},
   "source": [
    "## Decision tree"
   ]
  },
  {
   "cell_type": "code",
   "execution_count": 16,
   "metadata": {},
   "outputs": [
    {
     "name": "stdout",
     "output_type": "stream",
     "text": [
      "_ Col 6 < 0.0008213955443352461\n",
      "__ Col 0 < 0.0011961898999288678\n",
      "___ 1.0\n",
      "___ 1.0\n",
      "__ Col 1 < 0.015013515949249268\n",
      "___ 0.0\n",
      "___ 0.0\n",
      "Binary accuracy: 0.72\n"
     ]
    }
   ],
   "source": [
    "classifier = TreeClassifier()\n",
    "classifier.fit(X_train_best, y_train_bin, tree_height=2, length_stopping_criterion=53)\n",
    "classifier.print_tree()\n",
    "binary_scores['tree'] = round(classifier.score(X_test_best, y_test_bin), 2)\n",
    "binary_predictions['tree'] = classifier.predict(X_test_best)\n",
    "print(\"Binary accuracy:\", binary_scores['tree'])\n",
    "prediction = classifier.predict(X_test_best)"
   ]
  },
  {
   "cell_type": "markdown",
   "metadata": {},
   "source": [
    "## Random forest"
   ]
  },
  {
   "cell_type": "code",
   "execution_count": 17,
   "metadata": {},
   "outputs": [
    {
     "name": "stdout",
     "output_type": "stream",
     "text": [
      "Binary accuracy: 0.82\n"
     ]
    }
   ],
   "source": [
    "rfc = RandomForestClassifier()\n",
    "\n",
    "rfc.fit(X_train_best, y_train_bin,tree_height=10000, length_stopping_criterion=6, num_trees=100, ratio=0.04666666666666667)\n",
    "binary_scores['rfc'] = round(rfc.score(X_test_best, y_test_bin), 2)\n",
    "binary_predictions['rfc'] = rfc.predict(X_test_best)\n",
    "print(\"Binary accuracy:\",binary_scores['rfc'])"
   ]
  },
  {
   "cell_type": "markdown",
   "metadata": {},
   "source": [
    "## Support vector classifier "
   ]
  },
  {
   "cell_type": "code",
   "execution_count": 18,
   "metadata": {},
   "outputs": [
    {
     "name": "stdout",
     "output_type": "stream",
     "text": [
      "Binary accuracy: 0.73\n"
     ]
    }
   ],
   "source": [
    "svm = SVC(learning_rate=0.01, lambda_param=0.01, n_iters=5000)    \n",
    "\n",
    "svm.fit(X_train_sc, (y_train_bin * 2) - 1)\n",
    "binary_scores['svm'] = round(svm.score(X_test_sc, (y_test_bin * 2) - 1), 2)\n",
    "binary_predictions['svm'] = (svm.predict(X_test_sc)+1)/2\n",
    "\n",
    "print(\"Binary accuracy:\", binary_scores['svm'])"
   ]
  },
  {
   "cell_type": "code",
   "execution_count": 19,
   "metadata": {},
   "outputs": [
    {
     "data": {
      "image/png": "[encoded data removed]",
      "text/plain": [
       "<Figure size 720x360 with 1 Axes>"
      ]
     },
     "metadata": {
      "needs_background": "light"
     },
     "output_type": "display_data"
    }
   ],
   "source": [
    "plt.rcParams.update({'font.size': 20})\n",
    "\n",
    "fig, ax = plt.subplots(figsize=(10,5))\n",
    "bars = plt.bar(binary_scores.keys(), binary_scores.values(), width=0.2)\n",
    "\n",
    "for bar in bars:\n",
    "  height = bar.get_height()\n",
    "  label_x_pos = bar.get_x() + bar.get_width() / 2\n",
    "  ax.text(label_x_pos, height, s=f'{height}', ha='center', va='bottom')\n",
    "plt.yticks(np.arange(0, 1.1, 0.1))\n",
    "plt.title(\"Accuracy Scores On Test-Set\")\n",
    "plt.show()"
   ]
  },
  {
   "cell_type": "markdown",
   "metadata": {},
   "source": [
    "# 3.2) Multi-class species problem"
   ]
  },
  {
   "cell_type": "code",
   "execution_count": 20,
   "metadata": {},
   "outputs": [],
   "source": [
    "multi_scores= {}\n",
    "multi_predictions = {}"
   ]
  },
  {
   "cell_type": "markdown",
   "metadata": {},
   "source": [
    "## $k$ nearest-neighbours"
   ]
  },
  {
   "cell_type": "code",
   "execution_count": 21,
   "metadata": {},
   "outputs": [
    {
     "name": "stdout",
     "output_type": "stream",
     "text": [
      "Multi-class accuracy: 0.42\n"
     ]
    }
   ],
   "source": [
    "knn = KnnClassifier(20)\n",
    "knn.fit(X_train_sc, y_train)\n",
    "multi_scores['knn'] = round(knn.score(X_test_sc, y_test), 3)\n",
    "print(\"Multi-class accuracy:\", multi_scores['knn'])"
   ]
  },
  {
   "cell_type": "markdown",
   "metadata": {},
   "source": [
    "## Decision tree"
   ]
  },
  {
   "cell_type": "code",
   "execution_count": 22,
   "metadata": {},
   "outputs": [
    {
     "name": "stdout",
     "output_type": "stream",
     "text": [
      "_ Col 6 < 0.0008213955443352461\n",
      "__ Col 3 < 0.0024415208026766777\n",
      "___ Col 0 < 0.005659909453243017\n",
      "____ Col 5 < 0.07146754115819931\n",
      "_____ 1.0\n",
      "_____ 1.0\n",
      "____ 2.0\n",
      "___ Col 3 < 0.0236929003149271\n",
      "____ Col 4 < 0.016712918877601624\n",
      "_____ 5.0\n",
      "_____ 4.0\n",
      "____ 3.0\n",
      "__ Col 2 < 0.01657712087035179\n",
      "___ Col 4 < 0.0006195695605129004\n",
      "____ Col 7 < 0.0008433795301243663\n",
      "_____ 5.0\n",
      "_____ 0.0\n",
      "____ 1.0\n",
      "___ Col 1 < 0.001972839003428817\n",
      "____ 3.0\n",
      "____ Col 3 < 0.010631612502038479\n",
      "_____ 2.0\n",
      "_____ 3.0\n",
      "Mutli-class species accuracy: 0.42\n"
     ]
    }
   ],
   "source": [
    "classifier = TreeClassifier(classes=[0,1,2,3,4,5])\n",
    "classifier.fit(X_train_best, y_train, tree_height=4, length_stopping_criterion=36)\n",
    "classifier.print_tree()\n",
    "multi_predictions['tree'] = classifier.predict(X_test_best)\n",
    "multi_scores['tree'] = round(classifier.score(X_test_best, y_test), 3)\n",
    "print(\"Mutli-class species accuracy:\", multi_scores['tree'])\n"
   ]
  },
  {
   "cell_type": "markdown",
   "metadata": {},
   "source": [
    "## Random forest"
   ]
  },
  {
   "cell_type": "code",
   "execution_count": 23,
   "metadata": {},
   "outputs": [
    {
     "name": "stdout",
     "output_type": "stream",
     "text": [
      "Mutli-class species accuracy: 0.413\n"
     ]
    }
   ],
   "source": [
    "rfc = RandomForestClassifier(classes=[0,1,2,3,4,5])\n",
    "\n",
    "rfc.fit(X_train_best, y_train, tree_height=10000, length_stopping_criterion=6, num_trees=100, ratio=0.14666666666666667)\n",
    "\n",
    "multi_predictions['rfc'] = rfc.predict(X_test_best)\n",
    "multi_scores['rfc'] = round(rfc.score(X_test_best, y_test), 3)\n",
    "print(\"Mutli-class species accuracy:\", multi_scores['rfc'])\n"
   ]
  },
  {
   "cell_type": "markdown",
   "metadata": {},
   "source": [
    "## Support vector classifier "
   ]
  },
  {
   "cell_type": "code",
   "execution_count": 24,
   "metadata": {},
   "outputs": [],
   "source": [
    "svm = SVC_multi(learning_rate=0.01, lambda_param=0.01, n_iters=5000)    \n",
    "\n",
    "svm.fit(X_train_sc, y_train, method='one_v_one')"
   ]
  },
  {
   "cell_type": "code",
   "execution_count": 25,
   "metadata": {},
   "outputs": [
    {
     "name": "stdout",
     "output_type": "stream",
     "text": [
      "Mutli-class species accuracy: 0.4\n"
     ]
    }
   ],
   "source": [
    "multi_predictions['svm\\noneVSone'] = svm.predict(X_test_sc)\n",
    "multi_scores['svm\\noneVSone'] = round(svm.score(X_test_sc, y_test), 3)\n",
    "print(\"Mutli-class species accuracy:\",multi_scores['svm\\noneVSone'])"
   ]
  },
  {
   "cell_type": "code",
   "execution_count": 26,
   "metadata": {},
   "outputs": [],
   "source": [
    "svm = SVC_multi(learning_rate=0.01, lambda_param=0.01, n_iters=5000)    \n",
    "\n",
    "svm.fit(X_train_sc, y_train, method='one_v_rest')"
   ]
  },
  {
   "cell_type": "code",
   "execution_count": 27,
   "metadata": {},
   "outputs": [
    {
     "name": "stdout",
     "output_type": "stream",
     "text": [
      "Mutli-class species accuracy: 0.267\n"
     ]
    }
   ],
   "source": [
    "multi_predictions['svm\\noneVSrest'] = svm.predict(X_test_sc)\n",
    "multi_scores['svm\\noneVSrest'] = round(svm.score(X_test_sc, y_test), 3)\n",
    "print(\"Mutli-class species accuracy:\",multi_scores['svm\\noneVSrest'])"
   ]
  },
  {
   "cell_type": "code",
   "execution_count": 28,
   "metadata": {},
   "outputs": [
    {
     "data": {
      "image/png": "[encoded data removed]",
      "text/plain": [
       "<Figure size 720x360 with 1 Axes>"
      ]
     },
     "metadata": {
      "needs_background": "light"
     },
     "output_type": "display_data"
    }
   ],
   "source": [
    "plt.rcParams.update({'font.size': 20})\n",
    "\n",
    "fig, ax = plt.subplots(figsize=(10,5))\n",
    "bars = plt.bar(multi_scores.keys(), multi_scores.values(), width=0.2)\n",
    "\n",
    "for bar in bars:\n",
    "  height = bar.get_height()\n",
    "  label_x_pos = bar.get_x() + bar.get_width() / 2\n",
    "  ax.text(label_x_pos, height, s=f'{height}', ha='center', va='bottom')\n",
    "plt.yticks(np.arange(0, 1.1, 0.1))\n",
    "plt.title(\"Accuracy Scores On Test-Set\")\n",
    "plt.show()"
   ]
  },
  {
   "cell_type": "code",
   "execution_count": 33,
   "metadata": {},
   "outputs": [
    {
     "name": "stdout",
     "output_type": "stream",
     "text": [
      "[0. 0. 0. 0. 0. 0. 0. 0. 0. 0. 0. 0. 0. 1. 0. 0. 0. 0. 0. 0. 1. 0. 0. 0.\n",
      " 1. 1. 0. 1. 1. 1. 1. 1. 0. 0. 1. 1. 1. 0. 1. 0. 1. 1. 1. 0. 1. 1. 1. 0.\n",
      " 1. 1. 0. 0. 0. 0. 0. 0. 1. 1. 0. 0. 0. 0. 0. 0. 0. 0. 0. 0. 0. 0. 0. 0.\n",
      " 0. 0. 0. 0. 0. 1. 0. 0. 1. 0. 1. 0. 0. 0. 1. 0. 0. 0. 0. 0. 0. 0. 0. 0.\n",
      " 0. 0. 0. 0. 1. 0. 1. 0. 1. 1. 0. 1. 1. 1. 1. 1. 1. 1. 1. 1. 1. 1. 1. 1.\n",
      " 1. 1. 1. 1. 1. 1. 0. 0. 0. 1. 1. 0. 1. 1. 1. 0. 1. 1. 1. 1. 1. 0. 0. 1.\n",
      " 1. 0. 0. 1. 0. 0.]\n",
      "[0. 0. 0. 0. 0. 0. 0. 0. 0. 1. 1. 0. 0. 0. 0. 0. 0. 0. 1. 0. 0. 1. 0. 0.\n",
      " 0. 1. 0. 1. 1. 0. 1. 1. 1. 0. 1. 1. 1. 1. 1. 1. 0. 1. 1. 0. 1. 1. 1. 0.\n",
      " 1. 1. 1. 0. 0. 0. 1. 1. 1. 1. 0. 0. 1. 1. 0. 0. 1. 1. 0. 1. 0. 0. 0. 1.\n",
      " 0. 1. 0. 0. 1. 0. 0. 0. 1. 0. 1. 0. 0. 1. 0. 1. 0. 1. 0. 1. 0. 1. 0. 1.\n",
      " 1. 1. 0. 0. 1. 1. 1. 0. 0. 1. 1. 1. 1. 1. 1. 0. 1. 1. 0. 1. 1. 1. 1. 1.\n",
      " 0. 1. 1. 1. 1. 1. 0. 1. 1. 1. 0. 1. 1. 1. 1. 1. 1. 1. 1. 1. 1. 1. 1. 1.\n",
      " 1. 0. 1. 1. 0. 1.]\n",
      "[0. 0. 0. 0. 0. 0. 0. 0. 0. 0. 0. 0. 0. 0. 0. 0. 0. 0. 0. 0. 0. 1. 0. 0.\n",
      " 1. 1. 0. 1. 1. 1. 1. 1. 0. 0. 1. 1. 1. 1. 1. 1. 0. 1. 1. 1. 1. 1. 1. 0.\n",
      " 1. 1. 1. 0. 0. 0. 0. 1. 0. 1. 0. 0. 0. 0. 0. 0. 0. 1. 0. 1. 0. 0. 0. 0.\n",
      " 0. 0. 0. 0. 1. 0. 0. 0. 0. 0. 1. 0. 0. 1. 0. 1. 0. 1. 0. 1. 0. 1. 1. 0.\n",
      " 0. 1. 0. 0. 1. 1. 1. 1. 0. 1. 1. 1. 1. 1. 1. 1. 1. 1. 1. 1. 0. 1. 1. 1.\n",
      " 0. 1. 1. 1. 1. 1. 0. 1. 1. 1. 1. 1. 1. 1. 1. 1. 1. 1. 1. 1. 1. 1. 1. 1.\n",
      " 1. 0. 1. 1. 0. 1.]\n",
      "[-1. -1. -1. -1. -1. -1. -1. -1. -1.  1. -1. -1. -1.  1. -1.  1.  1. -1.\n",
      " -1. -1. -1. -1. -1. -1.  1.  1.  1.  1.  1.  1.  1.  1.  1. -1.  1.  1.\n",
      "  1.  1.  1.  1. -1. -1.  1. -1.  1.  1.  1.  1.  1.  1.  1. -1. -1. -1.\n",
      "  1.  1.  1.  1. -1. -1. -1. -1.  1. -1. -1.  1. -1.  1. -1.  1.  1. -1.\n",
      "  1.  1. -1. -1.  1. -1. -1. -1.  1. -1.  1. -1. -1. -1. -1. -1.  1.  1.\n",
      " -1.  1. -1. -1.  1. -1.  1.  1. -1. -1.  1.  1.  1. -1.  1.  1.  1.  1.\n",
      "  1.  1.  1.  1.  1.  1.  1.  1. -1.  1. -1. -1.  1.  1.  1.  1.  1.  1.\n",
      "  1.  1. -1.  1.  1.  1. -1.  1.  1. -1.  1. -1.  1.  1.  1.  1.  1.  1.\n",
      " -1. -1. -1.  1.  1.  1.]\n"
     ]
    }
   ],
   "source": [
    "for pred in binary_predictions.values():\n",
    "    print(pred)\n",
    "    "
   ]
  }
 ],
 "metadata": {
  "kernelspec": {
   "display_name": "Python 3",
   "language": "python",
   "name": "python3"
  },
  "language_info": {
   "codemirror_mode": {
    "name": "ipython",
    "version": 3
   },
   "file_extension": ".py",
   "mimetype": "text/x-python",
   "name": "python",
   "nbconvert_exporter": "python",
   "pygments_lexer": "ipython3",
   "version": "3.8.3"
  }
 },
 "nbformat": 4,
 "nbformat_minor": 4
}
