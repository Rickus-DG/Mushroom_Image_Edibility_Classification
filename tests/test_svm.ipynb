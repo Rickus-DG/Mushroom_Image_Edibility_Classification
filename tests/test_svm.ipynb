{
 "cells": [
  {
   "cell_type": "code",
   "execution_count": 1,
   "metadata": {},
   "outputs": [
    {
     "name": "stdout",
     "output_type": "stream",
     "text": [
      "[0. 0. 0. 0. 0. 0. 0. 0. 0. 0. 0. 0. 0. 0. 0. 0. 0. 0. 0. 0. 0. 0. 0. 0.\n",
      " 0. 0. 0. 0. 0. 0. 0. 0. 0. 0. 0. 0. 0. 0. 0. 0. 0. 0. 0. 0. 0. 0. 0. 0.\n",
      " 0. 0. 0. 0. 0. 0. 0. 0. 0. 0. 0. 0. 0. 0. 0. 0. 0. 0. 0. 0. 0. 0. 0. 0.\n",
      " 0. 0. 0. 0. 1. 1. 1. 1. 1. 1. 1. 1. 1. 1. 1. 1. 1. 1. 1. 1. 1. 1. 1. 1.\n",
      " 1. 1. 1. 1. 1. 1. 1. 1. 1. 1. 1. 1. 1. 1. 1. 1. 1. 1. 1. 1. 1. 1. 1. 1.\n",
      " 1. 1. 1. 1. 1. 1. 1. 1. 1. 1. 1. 1. 1. 1. 1. 1. 1. 1. 1. 1. 1. 1. 1. 1.\n",
      " 1. 1. 1. 1. 1. 1. 1. 1. 2. 2. 2. 2. 2. 2. 2. 2. 2. 2. 2. 2. 2. 2. 2. 2.\n",
      " 2. 2. 2. 2. 2. 2. 2. 2. 2. 2. 2. 2. 2. 2. 2. 2. 2. 2. 2. 2. 2. 2. 2. 2.\n",
      " 2. 2. 2. 2. 2. 2. 2. 2. 2. 2. 2. 2. 2. 2. 2. 2. 2. 2. 2. 2. 2. 2. 2. 2.\n",
      " 2. 2. 2. 2. 2. 2. 2. 2. 2. 2. 2. 2. 3. 3. 3. 3. 3. 3. 3. 3. 3. 3. 3. 3.\n",
      " 3. 3. 3. 3. 3. 3. 3. 3. 3. 3. 3. 3. 3. 3. 3. 3. 3. 3. 3. 3. 3. 3. 3. 3.\n",
      " 3. 3. 3. 3. 3. 3. 3. 3. 3. 3. 3. 3. 3. 3. 3. 3. 3. 3. 3. 3. 3. 3. 3. 3.\n",
      " 3. 3. 3. 3. 3. 3. 3. 3. 3. 3. 3. 3. 3. 3. 3. 3. 4. 4. 4. 4. 4. 4. 4. 4.\n",
      " 4. 4. 4. 4. 4. 4. 4. 4. 4. 4. 4. 4. 4. 4. 4. 4. 4. 4. 4. 4. 4. 4. 4. 4.\n",
      " 4. 4. 4. 4. 4. 4. 4. 4. 4. 4. 4. 4. 4. 4. 4. 4. 4. 4. 4. 4. 4. 4. 4. 4.\n",
      " 4. 4. 4. 4. 4. 4. 4. 4. 4. 4. 4. 4. 4. 4. 4. 4. 4. 4. 4. 4. 5. 5. 5. 5.\n",
      " 5. 5. 5. 5. 5. 5. 5. 5. 5. 5. 5. 5. 5. 5. 5. 5. 5. 5. 5. 5. 5. 5. 5. 5.\n",
      " 5. 5. 5. 5. 5. 5. 5. 5. 5. 5. 5. 5. 5. 5. 5. 5. 5. 5. 5. 5. 5. 5. 5. 5.\n",
      " 5. 5. 5. 5. 5. 5. 5. 5. 5. 5. 5. 5. 5. 5. 5. 5. 5. 5. 5. 5. 5. 5. 5. 5.]\n"
     ]
    }
   ],
   "source": [
    "import os\n",
    "import sys\n",
    "sys.path.insert(0, os.path.abspath('..'))\n",
    "sys.path.insert(0, os.path.abspath('../algorithms'))\n",
    "import matplotlib.pyplot as plt\n",
    "\n",
    "import numpy as np\n",
    "from sklearn.model_selection import train_test_split\n",
    "from algorithms import supportvector\n",
    "from supportvector import SVC, SVC_multi\n",
    "\n",
    "mushroom_train_data = np.genfromtxt('../mushroom_images/mushroom_image_train_color_data.csv', delimiter=\",\")\n",
    "mushroom_train_target = np.genfromtxt('../mushroom_images/mushroom_image_train_color_target.csv', delimiter=\",\")\n",
    "mushroom_test_data = np.genfromtxt('../mushroom_images/mushroom_image_test_color_data.csv', delimiter=\",\")\n",
    "mushroom_test_target = np.genfromtxt('../mushroom_images/mushroom_image_test_color_target.csv', delimiter=\",\")\n",
    "    \n",
    "mushroom_edibility = [0,1,0,0,1,1]\n",
    "\n",
    "from sklearn.feature_selection import SelectKBest\n",
    "from sklearn.feature_selection import chi2, f_classif\n",
    "from sklearn.preprocessing import StandardScaler\n",
    "\n",
    "\n",
    "#fValue_selector = SelectKBest(chi2,k=8)\n",
    "#fValue_selector.fit(mushroom_train_data, mushroom_train_target)\n",
    "#mushroom_train_data = fValue_selector.transform(mushroom_train_data)\n",
    "#mushroom_test_data = fValue_selector.transform(mushroom_test_data)\n",
    "\n",
    "#mushroom_train_target = mushroom_train_target[:152] * -2 + 1\n",
    "#mushroom_train_data = mushroom_train_data[:152,:] * -2 + 1\n",
    "#mushroom_test_data = mushroom_test_data[:48,:] * -2 + 1\n",
    "#mushroom_test_target = mushroom_test_target[:48] * -2 + 1\n",
    "\n",
    "\n",
    "#for i in np.arange(mushroom_train_data.shape[0]):\n",
    "#    mushroom_train_target[i] = mushroom_edibility[int(mushroom_train_target[i])]\n",
    "#    \n",
    "#for i in np.arange(mushroom_test_data.shape[0]):\n",
    "#    mushroom_test_target[i] = mushroom_edibility[int(mushroom_test_target[i])]\n",
    "\n",
    "\n",
    "scaler = StandardScaler()\n",
    "scaler.fit(mushroom_train_data)\n",
    "mushroom_train_data = scaler.transform(mushroom_train_data)\n",
    "mushroom_test_data = scaler.transform(mushroom_test_data)\n",
    "\n",
    "print(mushroom_train_target)\n"
   ]
  },
  {
   "cell_type": "code",
   "execution_count": 2,
   "metadata": {},
   "outputs": [
    {
     "name": "stdout",
     "output_type": "stream",
     "text": [
      "0.4027777777777778\n"
     ]
    }
   ],
   "source": [
    "svm = SVC_multi(learning_rate=0.01, lambda_param=0.01, n_iters=1000)    \n",
    "\n",
    "svm.fit(mushroom_train_data, mushroom_train_target)\n",
    "svm.predict(mushroom_train_data)\n",
    "print(svm.score(mushroom_test_data, mushroom_test_target))\n",
    "\n",
    "\n",
    "\n",
    "\n",
    "\n",
    "#svm.fit(mushroom_train_data, mushroom_train_target)\n",
    "\n",
    "\n",
    "#prediction = svm.predict(mushroom_test_data)\n",
    "\n",
    "#print(prediction)\n",
    "\n",
    "#print(svm.score(mushroom_test_data, mushroom_test_target))\n",
    "\n"
   ]
  },
  {
   "cell_type": "code",
   "execution_count": 3,
   "metadata": {},
   "outputs": [
    {
     "name": "stdout",
     "output_type": "stream",
     "text": [
      "Binary edibility accuracy: 0.6875\n"
     ]
    }
   ],
   "source": [
    "prediction = svm.predict(mushroom_test_data)\n",
    "\n",
    "\n",
    "mushroom_edibility = [0,1,0,0,1,1]\n",
    "count = 0\n",
    "for i in np.arange(prediction.shape[0]):\n",
    "    if mushroom_edibility[int(prediction[i])] == mushroom_edibility[int(mushroom_test_target[i])]:\n",
    "        count += 1\n",
    "    \n",
    "print(\"Binary edibility accuracy:\", count/prediction.shape[0])"
   ]
  },
  {
   "cell_type": "markdown",
   "metadata": {},
   "source": [
    "## Experiments with toy data"
   ]
  },
  {
   "cell_type": "code",
   "execution_count": 4,
   "metadata": {},
   "outputs": [
    {
     "data": {
      "image/png": "[encoded data removed]",
      "text/plain": [
       "<Figure size 432x288 with 1 Axes>"
      ]
     },
     "metadata": {
      "needs_background": "light"
     },
     "output_type": "display_data"
    },
    {
     "name": "stdout",
     "output_type": "stream",
     "text": [
      "1.0\n"
     ]
    }
   ],
   "source": [
    "\n",
    "X_train = np.array([[1.6,3.2],[1.7,2.7],[1.6,2.7],[1.9,2.6],[1.2,2.7],[2.5,3.5],[2.2,5.5],[2.1,4.2],[2.9,3.1],[2.2,3.7]])\n",
    "y_train = np.array([-1,-1,-1,-1,-1,1,1,1,1,1])\n",
    "svm = SVC(learning_rate=0.1, lambda_param=0.1,n_iters=5000)\n",
    "svm.fit(X_train, y_train)\n",
    "\n",
    "\n",
    "fig=plt.figure()\n",
    "ax=fig.add_axes([0,0,1,1])\n",
    "ax.scatter(X_train[:5,0], X_train[:5,1], color='r')\n",
    "ax.scatter(X_train[5:,0], X_train[5:,1], color='b')\n",
    "\n",
    "\n",
    "x = np.linspace(1.5,2.25)\n",
    "y = (svm.b - svm.w[0]*x)/svm.w[1]\n",
    "\n",
    "plt.plot(x,y, '-k')\n",
    "\n",
    "plt.show()\n",
    "print(svm.score(X_train, y_train))"
   ]
  }
 ],
 "metadata": {
  "kernelspec": {
   "display_name": "Python 3",
   "language": "python",
   "name": "python3"
  },
  "language_info": {
   "codemirror_mode": {
    "name": "ipython",
    "version": 3
   },
   "file_extension": ".py",
   "mimetype": "text/x-python",
   "name": "python",
   "nbconvert_exporter": "python",
   "pygments_lexer": "ipython3",
   "version": "3.8.3"
  }
 },
 "nbformat": 4,
 "nbformat_minor": 4
}
