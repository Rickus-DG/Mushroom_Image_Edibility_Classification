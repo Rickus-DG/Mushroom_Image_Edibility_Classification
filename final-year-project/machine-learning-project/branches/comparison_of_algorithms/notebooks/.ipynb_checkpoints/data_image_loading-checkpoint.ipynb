{
 "cells": [
  {
   "cell_type": "code",
   "execution_count": 2,
   "metadata": {},
   "outputs": [],
   "source": [
    "import os\n",
    "import sys\n",
    "import numpy as np\n",
    "import cv2\n",
    "import sklearn\n",
    "import fnmatch\n",
    "from matplotlib import pyplot as plt\n",
    "import imutils\n",
    "sys.path.insert(0, os.path.abspath('../..'))\n",
    "\n",
    "file_under_use = 'images_qual_nobg/'"
   ]
  },
  {
   "cell_type": "code",
   "execution_count": 3,
   "metadata": {},
   "outputs": [],
   "source": [
    "mushroomNames = []\n",
    "for mushroomName in os.listdir('../../MushroomImage/' + file_under_use):\n",
    "    mushroomNames.append(mushroomName)"
   ]
  },
  {
   "cell_type": "code",
   "execution_count": 4,
   "metadata": {},
   "outputs": [
    {
     "name": "stdout",
     "output_type": "stream",
     "text": [
      "550\n"
     ]
    }
   ],
   "source": [
    "numImages = 0\n",
    "for mushroomName in mushroomNames:\n",
    "    for imageName in os.listdir('../../MushroomImage/' + file_under_use + mushroomName):\n",
    "        numImages += 1\n",
    "print(numImages)"
   ]
  },
  {
   "cell_type": "markdown",
   "metadata": {},
   "source": [
    "## Deletes images"
   ]
  },
  {
   "cell_type": "markdown",
   "metadata": {},
   "source": [
    "print(image.flatten().shape)\n",
    "for mushroomName in mushroomNames:\n",
    "    for imageName in os.listdir('../../MushroomImage/' + file_under_use + mushroomName):\n",
    "        for imageName in os.listdir('../../MushroomImage/' + file_under_use + mushroomName):\n",
    "            os.remove('../../MushroomImage/' + file_under_use + mushroomName + '/' + imageName)\n",
    "        \n"
   ]
  },
  {
   "cell_type": "markdown",
   "metadata": {},
   "source": [
    "## Removes folders with less than 15 images"
   ]
  },
  {
   "cell_type": "markdown",
   "metadata": {},
   "source": [
    "import shutil\n",
    "\n",
    "for mushroomName in mushroomNames:\n",
    "    dirListing = os.listdir('../../MushroomImage/images_nobg/' + mushroomName)\n",
    "    if(len(dirListing) < 15):\n",
    "        try:\n",
    "            shutil.rmtree('../../MushroomImage/images_nobg/' + mushroomName)\n",
    "        except OSError as e:\n",
    "            print(\"Error: %s : %s\" % (dir_path, e.strerror))\n",
    "    print(len(dirListing))\n"
   ]
  },
  {
   "cell_type": "markdown",
   "metadata": {},
   "source": [
    "## Loads pictures"
   ]
  },
  {
   "cell_type": "markdown",
   "metadata": {},
   "source": [
    "\n",
    "\n",
    "mushroomNames = []\n",
    "for mushroomName in os.listdir('../../MushroomImage/' + 'images_qual/'):\n",
    "    mushroomNames.append(mushroomName)\n",
    "\n",
    "for mushroomName in mushroomNames[:]:\n",
    "    for imageName in os.listdir('../../MushroomImage/' + 'images_qual/' + mushroomName):\n",
    "        image = cv2.imread('../../MushroomImage/' + 'images_qual/' + mushroomName + '/' + imageName, cv2.IMREAD_COLOR)\n",
    "        try:\n",
    "            image = cv2.resize(image, (100,100))\n",
    "        except:\n",
    "            break\n",
    "        #image = cv2.cvtColor(image, cv2.COLOR_BGR2RGB)\n",
    "        rectangle = (5,5,90,90)\n",
    "        mask = np.zeros(image.shape[:2], np.uint8)\n",
    "        bgdModel = np.zeros((1,65), np.float64)\n",
    "        fgdModel = np.zeros((1,65), np.float64)\n",
    "        \n",
    "        cv2.grabCut(image,\n",
    "                   mask,\n",
    "                   rectangle,\n",
    "                   bgdModel,\n",
    "                   fgdModel,\n",
    "                   5,\n",
    "                   cv2.GC_INIT_WITH_RECT)\n",
    "        \n",
    "        mask_2 = np.where((mask==2) | (mask==0), 0, 1).astype('uint8')\n",
    "    \n",
    "        image_nobg = image * mask_2[:,:,np.newaxis]\n",
    "        sparsity = 1.0 - np.count_nonzero(image_nobg) / image_nobg.size\n",
    "        plt.imshow(image_nobg)\n",
    "        if(sparsity < 0.9):\n",
    "            cv2.imwrite('../../MushroomImage/' + file_under_use  + mushroomName + '/' + imageName, image_nobg)\n",
    "            print(mushroomName)\n",
    "        #cv2.imwrite('../../MushroomImage/' + file_under_use  + mushroomName + '/' + imageName, image)\n",
    "print(image.flatten().shape)"
   ]
  },
  {
   "cell_type": "code",
   "execution_count": 5,
   "metadata": {},
   "outputs": [
    {
     "ename": "FileNotFoundError",
     "evalue": "[WinError 3] The system cannot find the path specified: '../../MushroomImage/images_nobg/10056_Agaricus_arvensis'",
     "output_type": "error",
     "traceback": [
      "\u001b[1;31m---------------------------------------------------------------------------\u001b[0m",
      "\u001b[1;31mFileNotFoundError\u001b[0m                         Traceback (most recent call last)",
      "\u001b[1;32m<ipython-input-5-184374be5535>\u001b[0m in \u001b[0;36m<module>\u001b[1;34m\u001b[0m\n\u001b[0;32m      2\u001b[0m \u001b[1;33m\u001b[0m\u001b[0m\n\u001b[0;32m      3\u001b[0m \u001b[1;32mfor\u001b[0m \u001b[0mmushroomName\u001b[0m \u001b[1;32min\u001b[0m \u001b[0mmushroomNames\u001b[0m\u001b[1;33m:\u001b[0m\u001b[1;33m\u001b[0m\u001b[1;33m\u001b[0m\u001b[0m\n\u001b[1;32m----> 4\u001b[1;33m     \u001b[0mdirListing\u001b[0m \u001b[1;33m=\u001b[0m \u001b[0mos\u001b[0m\u001b[1;33m.\u001b[0m\u001b[0mlistdir\u001b[0m\u001b[1;33m(\u001b[0m\u001b[1;34m'../../MushroomImage/images_nobg/'\u001b[0m \u001b[1;33m+\u001b[0m \u001b[0mmushroomName\u001b[0m\u001b[1;33m)\u001b[0m\u001b[1;33m\u001b[0m\u001b[1;33m\u001b[0m\u001b[0m\n\u001b[0m\u001b[0;32m      5\u001b[0m     \u001b[0mprint\u001b[0m\u001b[1;33m(\u001b[0m\u001b[0mlen\u001b[0m\u001b[1;33m(\u001b[0m\u001b[0mdirListing\u001b[0m\u001b[1;33m)\u001b[0m\u001b[1;33m)\u001b[0m\u001b[1;33m\u001b[0m\u001b[1;33m\u001b[0m\u001b[0m\n",
      "\u001b[1;31mFileNotFoundError\u001b[0m: [WinError 3] The system cannot find the path specified: '../../MushroomImage/images_nobg/10056_Agaricus_arvensis'"
     ]
    }
   ],
   "source": [
    "import shutil\n",
    "\n",
    "for mushroomName in mushroomNames:\n",
    "    dirListing = os.listdir('../../MushroomImage/images_qual_nobg/' + mushroomName)\n",
    "    print(len(dirListing))"
   ]
  }
 ],
 "metadata": {
  "kernelspec": {
   "display_name": "Python 3",
   "language": "python",
   "name": "python3"
  },
  "language_info": {
   "codemirror_mode": {
    "name": "ipython",
    "version": 3
   },
   "file_extension": ".py",
   "mimetype": "text/x-python",
   "name": "python",
   "nbconvert_exporter": "python",
   "pygments_lexer": "ipython3",
   "version": "3.8.3"
  }
 },
 "nbformat": 4,
 "nbformat_minor": 4
}
