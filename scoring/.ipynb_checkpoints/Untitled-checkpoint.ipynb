{
 "cells": [
  {
   "cell_type": "code",
   "execution_count": 7,
   "metadata": {},
   "outputs": [
    {
     "name": "stdout",
     "output_type": "stream",
     "text": [
      "[[ 9  0]\n",
      " [10  2]]\n"
     ]
    }
   ],
   "source": [
    "import numpy as np\n",
    "\n",
    "class confusion_matrix:\n",
    "    \n",
    "    def generate(self, y_pred, y_test):\n",
    "        \"\"\"Create confusion matrix\"\"\"\n",
    "        \n",
    "        truePositives = 0\n",
    "        falsePositives = 0\n",
    "        trueNegatives = 0\n",
    "        falseNegatives = 0       \n",
    "        \n",
    "        for i in np.arange(y_test.shape[0]):\n",
    "            if y_pred[i] == y_test[i] == 1:\n",
    "                truePositives += 1\n",
    "                \n",
    "            if y_pred[i] != y_test[i] == 1:\n",
    "                truePositives += 1\n",
    "                \n",
    "            if y_pred[i] == y_test[i] == 0:\n",
    "                trueNegatives += 1\n",
    "            \n",
    "            if y_pred[i] != y_test[i] == 0:\n",
    "                falseNegatives += 1\n",
    "            \n",
    "        return np.array([[truePositives, falsePositives], [trueNegatives, falseNegatives]])\n",
    "\n",
    "import os\n",
    "import sys\n",
    "import numpy as np\n",
    "sys.path.insert(0, os.path.abspath('..'))\n",
    "sys.path.insert(0, os.path.abspath('../algorithms'))\n",
    "sys.path.insert(0, os.path.abspath('../scoring'))\n",
    "\n",
    "from skimage.io import imread, imshow\n",
    "import fnmatch\n",
    "\n",
    "from scores import cross_validation_score\n",
    "from algorithms import nearestneighbor\n",
    "from nearestneighbor import KnnClassifier\n",
    "from sklearn.model_selection import train_test_split\n",
    "from PIL import Image\n",
    "\n",
    "\n",
    "\n",
    "mushroom_image_data = np.genfromtxt('../mushroom_images/mushroom_image_data.csv', delimiter=\",\")\n",
    "mushroom_image_target = np.genfromtxt('../mushroom_images/mushroom_image_target.csv', delimiter=\",\")\n",
    "\n",
    "\n",
    "\n",
    "\n",
    "X_train, X_test, y_train, y_test = train_test_split(mushroom_image_data, mushroom_image_target, random_state=1000)\n",
    "\n",
    "from sklearn.preprocessing import StandardScaler\n",
    "\n",
    "ss = StandardScaler()\n",
    "ss.fit(X_train)\n",
    "X_train = ss.transform(X_train)\n",
    "X_test = ss.transform(X_test)\n",
    "\n",
    "knn = KnnClassifier(3)\n",
    "knn.fit(X_train, y_train)\n",
    "\n",
    "Confusion = confusion_matrix()\n",
    "print(Confusion.generate(knn.predict(X_test), y_test))"
   ]
  }
 ],
 "metadata": {
  "kernelspec": {
   "display_name": "Python 3",
   "language": "python",
   "name": "python3"
  },
  "language_info": {
   "codemirror_mode": {
    "name": "ipython",
    "version": 3
   },
   "file_extension": ".py",
   "mimetype": "text/x-python",
   "name": "python",
   "nbconvert_exporter": "python",
   "pygments_lexer": "ipython3",
   "version": "3.8.3"
  }
 },
 "nbformat": 4,
 "nbformat_minor": 4
}
