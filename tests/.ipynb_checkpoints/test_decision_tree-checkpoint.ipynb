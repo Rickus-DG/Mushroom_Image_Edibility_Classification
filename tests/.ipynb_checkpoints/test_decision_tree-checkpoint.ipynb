{
 "cells": [
  {
   "cell_type": "code",
   "execution_count": 1,
   "metadata": {},
   "outputs": [
    {
     "name": "stdout",
     "output_type": "stream",
     "text": [
      "[[0.00805975 0.00070085 0.         ... 0.         0.         0.        ]\n",
      " [0.01869921 0.06840795 0.03693094 ... 0.         0.         0.        ]\n",
      " [0.00162373 0.         0.         ... 0.         0.         0.        ]\n",
      " ...\n",
      " [0.         0.         0.         ... 0.         0.         0.        ]\n",
      " [0.         0.         0.         ... 0.         0.         0.        ]\n",
      " [0.00095354 0.00190708 0.0047677  ... 0.         0.         0.        ]]\n"
     ]
    }
   ],
   "source": [
    "import os\n",
    "import sys\n",
    "import numpy as np\n",
    "\n",
    "sys.path.insert(0, os.path.abspath('..'))\n",
    "sys.path.insert(0, os.path.abspath('../algorithms'))\n",
    "\n",
    "from algorithms import decisiontree\n",
    "from decisiontree import TreeClassifier\n",
    "from sklearn.datasets import load_breast_cancer\n",
    "from sklearn.model_selection import train_test_split\n",
    "\n",
    "mushroom_train_data = np.genfromtxt('../mushroom_images/mushroom_image_train_color_data.csv', delimiter=\",\")\n",
    "mushroom_train_target = np.genfromtxt('../mushroom_images/mushroom_image_train_color_target.csv', delimiter=\",\")\n",
    "mushroom_test_data = np.genfromtxt('../mushroom_images/mushroom_image_test_color_data.csv', delimiter=\",\")\n",
    "mushroom_test_target = np.genfromtxt('../mushroom_images/mushroom_image_test_color_target.csv', delimiter=\",\")\n",
    "    \n",
    "mushroom_edibility = [0,1,0,0,1,1]\n",
    "\n",
    "from sklearn.feature_selection import SelectKBest\n",
    "from sklearn.feature_selection import chi2, f_classif\n",
    "\n",
    "\n",
    "fValue_selector = SelectKBest(chi2,k=8)\n",
    "fValue_selector.fit(mushroom_train_data, mushroom_train_target)\n",
    "mushroom_train_data = fValue_selector.transform(mushroom_train_data)\n",
    "mushroom_test_data = fValue_selector.transform(mushroom_test_data)\n",
    "print(mushroom_train_data)\n"
   ]
  },
  {
   "cell_type": "code",
   "execution_count": null,
   "metadata": {},
   "outputs": [],
   "source": [
    "classifier = TreeClassifier(classes=[0,1,2,3,4,5])\n",
    "classifier.fit(mushroom_train_data, mushroom_train_target)"
   ]
  },
  {
   "cell_type": "code",
   "execution_count": 229,
   "metadata": {},
   "outputs": [
    {
     "name": "stdout",
     "output_type": "stream",
     "text": [
      "Mutli-class species accuracy: 0.3680555555555556\n",
      "Binary edibility accuracy: 0.7638888888888888\n"
     ]
    }
   ],
   "source": [
    "print(\"Mutli-class species accuracy:\", classifier.score(mushroom_test_data, mushroom_test_target\n",
    "                      ))\n",
    "prediction = classifier.predict(mushroom_test_data)\n",
    "\n",
    "count = 0\n",
    "for i in np.arange(prediction.shape[0]):\n",
    "    if mushroom_edibility[int(prediction[i])] == mushroom_edibility[int(mushroom_test_target[i])]:\n",
    "        count += 1\n",
    "    \n",
    "print(\"Binary edibility accuracy:\", count/binaryPrediction.shape[0])\n",
    "    "
   ]
  }
 ],
 "metadata": {
  "kernelspec": {
   "display_name": "Python 3",
   "language": "python",
   "name": "python3"
  },
  "language_info": {
   "codemirror_mode": {
    "name": "ipython",
    "version": 3
   },
   "file_extension": ".py",
   "mimetype": "text/x-python",
   "name": "python",
   "nbconvert_exporter": "python",
   "pygments_lexer": "ipython3",
   "version": "3.8.3"
  }
 },
 "nbformat": 4,
 "nbformat_minor": 4
}
