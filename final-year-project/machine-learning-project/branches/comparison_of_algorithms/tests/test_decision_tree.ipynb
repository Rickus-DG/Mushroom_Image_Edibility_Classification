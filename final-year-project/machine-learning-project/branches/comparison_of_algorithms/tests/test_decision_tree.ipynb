{
 "cells": [
  {
   "cell_type": "code",
   "execution_count": 1,
   "metadata": {},
   "outputs": [],
   "source": [
    "import os\n",
    "import sys\n",
    "import numpy as np\n",
    "sys.path.insert(0, os.path.abspath('..'))\n",
    "sys.path.insert(0, os.path.abspath('../algorithms'))\n",
    "sys.path.insert(0, os.path.abspath('../scoring'))\n",
    "\n",
    "from scores import cross_validation_score\n",
    "from algorithms import decisiontree\n",
    "from decisiontree import TreeClassifier\n",
    "from sklearn.model_selection import train_test_split\n",
    "import matplotlib.pyplot as plt\n",
    "from scores import confusion_matrix\n",
    "from sklearn.preprocessing import StandardScaler"
   ]
  },
  {
   "cell_type": "markdown",
   "metadata": {},
   "source": [
    "# Decision-Tree classifier for UCI mushroom repository"
   ]
  },
  {
   "cell_type": "code",
   "execution_count": 2,
   "metadata": {},
   "outputs": [],
   "source": [
    "mushroom_uci_data = np.genfromtxt('../pre-processed-uci-mushroom-dataset/standardized_mushroom_data.csv', delimiter=\",\")\n",
    "mushroom_uci_target = np.genfromtxt('../pre-processed-uci-mushroom-dataset/standardized_mushroom_target.csv', delimiter=\",\")"
   ]
  },
  {
   "cell_type": "markdown",
   "metadata": {},
   "source": [
    "## Split the UCI data into testing and training data "
   ]
  },
  {
   "cell_type": "code",
   "execution_count": 3,
   "metadata": {},
   "outputs": [],
   "source": [
    "X_train, X_test, y_train, y_test = train_test_split(mushroom_uci_data, mushroom_uci_target, random_state=1000, test_size=250, train_size=750)"
   ]
  },
  {
   "cell_type": "markdown",
   "metadata": {},
   "source": [
    "## Accuracy score for TreeClassifier on UCI mushroom repository"
   ]
  },
  {
   "cell_type": "code",
   "execution_count": 4,
   "metadata": {},
   "outputs": [
    {
     "name": "stdout",
     "output_type": "stream",
     "text": [
      "0.98\n"
     ]
    }
   ],
   "source": [
    "tc = TreeClassifier()\n",
    "tc.fit(X_train, y_train)\n",
    "print(tc.score(X_test, y_test))"
   ]
  },
  {
   "cell_type": "markdown",
   "metadata": {},
   "source": [
    "## Representation of tree for model trained on uci-mushroom data-set"
   ]
  },
  {
   "cell_type": "code",
   "execution_count": 5,
   "metadata": {},
   "outputs": [
    {
     "name": "stdout",
     "output_type": "stream",
     "text": [
      "_ Col 7 < 0.048112522432468816\n",
      "__ Col 19 < 0.10585122480499262\n",
      "___ Col 5 < 0.053074489243427524\n",
      "____ 0.0\n",
      "____ Col 0 < 0.1318760946791574\n",
      "_____ Col 0 < 0.11724207635210984\n",
      "______ 1.0\n",
      "______ Col 0 < 0.11724207635210984\n",
      "_______ 1.0\n",
      "_______ 1.0\n",
      "_____ Col 0 < 0.1318760946791574\n",
      "______ 1.0\n",
      "______ 1.0\n",
      "___ Col 14 < 0.1126872339638022\n",
      "____ Col 0 < 0.2773500981126146\n",
      "_____ Col 0 < 0.23570226039551587\n",
      "______ 1.0\n",
      "______ 1.0\n",
      "_____ 1.0\n",
      "____ Col 2 < 0.1126872339638022\n",
      "_____ Col 10 < 0.05616559563017304\n",
      "______ Col 0 < 0.1655211777204736\n",
      "_______ 0.0\n",
      "_______ 0.0\n",
      "______ 1.0\n",
      "_____ Col 5 < 0.10660035817780521\n",
      "______ Col 0 < 0.10526315789473684\n",
      "_______ Col 18 < 0.2205271385679885\n",
      "________ 0.0\n",
      "________ Col 0 < 0.0\n",
      "_________ 0.0\n",
      "_________ 0.0\n",
      "_______ Col 0 < 0.12239801227242092\n",
      "________ Col 0 < 0.12104550653376049\n",
      "_________ Col 0 < 0.11846977555181847\n",
      "__________ Col 0 < 0.11704114719613057\n",
      "___________ 0.0\n",
      "___________ 0.0\n",
      "__________ Col 0 < 0.11846977555181847\n",
      "___________ 0.0\n",
      "___________ 0.0\n",
      "_________ 0.0\n",
      "________ Col 0 < 0.12239801227242092\n",
      "_________ 0.0\n",
      "_________ 0.0\n",
      "______ 1.0\n",
      "__ Col 1 < 0.098652724733398\n",
      "___ Col 12 < 0.12909944487358055\n",
      "____ Col 19 < 0.12285902336679023\n",
      "_____ 1.0\n",
      "_____ Col 0 < 0.30316953129541624\n",
      "______ Col 0 < 0.1729171253112705\n",
      "_______ 0.0\n",
      "_______ Col 0 < 0.1729171253112705\n",
      "________ 0.0\n",
      "________ 0.0\n",
      "______ 0.0\n",
      "____ 1.0\n",
      "___ Col 8 < 0.5538487756217113\n",
      "____ Col 4 < 0.05913123959890826\n",
      "_____ 0.0\n",
      "_____ Col 12 < 0.05892556509887897\n",
      "______ 0.0\n",
      "______ Col 0 < 0.30042088406305484\n",
      "_______ Col 0 < 0.19245008972987526\n",
      "________ Col 0 < 0.19088542889273333\n",
      "_________ Col 0 < 0.12549116102763172\n",
      "__________ Col 0 < 0.1252448582170299\n",
      "___________ 1.0\n",
      "___________ 1.0\n",
      "__________ Col 0 < 0.12549116102763172\n",
      "___________ 1.0\n",
      "___________ 1.0\n",
      "_________ 1.0\n",
      "________ Col 0 < 0.19245008972987526\n",
      "_________ 1.0\n",
      "_________ 1.0\n",
      "_______ Col 0 < 0.30042088406305484\n",
      "________ 1.0\n",
      "________ 1.0\n",
      "____ 0.0\n"
     ]
    }
   ],
   "source": [
    "tc.print_tree()"
   ]
  },
  {
   "cell_type": "markdown",
   "metadata": {},
   "source": [
    "## Confusion matrix for UCI results"
   ]
  },
  {
   "cell_type": "code",
   "execution_count": 6,
   "metadata": {},
   "outputs": [
    {
     "name": "stdout",
     "output_type": "stream",
     "text": [
      "[[115   2]\n",
      " [  3 130]]\n"
     ]
    }
   ],
   "source": [
    "cfm = confusion_matrix()\n",
    "tc = TreeClassifier()\n",
    "tc.fit(X_train, y_train)\n",
    "print(cfm.generate(tc.predict(X_test), y_test))"
   ]
  },
  {
   "cell_type": "markdown",
   "metadata": {},
   "source": [
    "## Creates ROC curve for uci-mushroom repository"
   ]
  },
  {
   "cell_type": "code",
   "execution_count": 7,
   "metadata": {},
   "outputs": [
    {
     "name": "stdout",
     "output_type": "stream",
     "text": [
      "AUC = 0.9843990755007704\n"
     ]
    },
    {
     "data": {
      "image/png": "[encoded data removed]",
      "text/plain": [
       "<Figure size 432x288 with 1 Axes>"
      ]
     },
     "metadata": {
      "needs_background": "light"
     },
     "output_type": "display_data"
    }
   ],
   "source": [
    "#Disclamer used sci-kit learn to generate roc curve as my implementation of tree does not have a pred_proba() function\n",
    "from sklearn.metrics import roc_curve\n",
    "from sklearn.metrics import auc\n",
    "from sklearn import tree\n",
    "\n",
    "sci_tc = tree.DecisionTreeClassifier()\n",
    "sci_tc.fit(X_train, y_train)\n",
    "y_scores = sci_tc.predict_proba(X_test)\n",
    "sensitivity, true_positive_rate, th = roc_curve(y_test, y_scores[:, 1])\n",
    "AUC = auc(sensitivity, true_positive_rate)\n",
    "print(\"AUC =\", AUC)\n",
    "\n",
    "plt.plot(sensitivity, true_positive_rate, 'r')\n",
    "plt.plot([0, 1], [0, 1],'g--')\n",
    "plt.xlim([0, 1])\n",
    "plt.ylabel('Sensitivity')\n",
    "plt.ylim([0, 1])\n",
    "plt.xlabel('1 - Specificity')\n",
    "plt.title('ROC Curve for classifier tree on UCI-mushroom data-set')\n",
    "plt.show()"
   ]
  }
 ],
 "metadata": {
  "kernelspec": {
   "display_name": "Python 3",
   "language": "python",
   "name": "python3"
  },
  "language_info": {
   "codemirror_mode": {
    "name": "ipython",
    "version": 3
   },
   "file_extension": ".py",
   "mimetype": "text/x-python",
   "name": "python",
   "nbconvert_exporter": "python",
   "pygments_lexer": "ipython3",
   "version": "3.8.3"
  }
 },
 "nbformat": 4,
 "nbformat_minor": 4
}
